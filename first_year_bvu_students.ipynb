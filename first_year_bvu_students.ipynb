{
 "cells": [
  {
   "cell_type": "code",
   "execution_count": 69,
   "metadata": {},
   "outputs": [],
   "source": [
    "import pandas as pd\n",
    "import seaborn as sns\n",
    "from sklearn.preprocessing import LabelEncoder\n",
    "from sklearn.model_selection import train_test_split\n",
    "from sklearn.metrics import classification_report\n",
    "from sklearn.metrics import accuracy_score\n",
    "from sklearn.model_selection import GridSearchCV\n",
    "from sklearn.linear_model import LogisticRegression\n",
    "from sklearn.tree import DecisionTreeClassifier\n",
    "from sklearn.svm import SVC\n",
    "from sklearn.neural_network import MLPClassifier\n",
    "from sklearn.cluster import KMeans\n",
    "from sklearn.preprocessing import OneHotEncoder\n",
    "from sklearn.preprocessing import normalize\n",
    "from sklearn import tree\n",
    "import numpy as np\n",
    "import subprocess\n",
    "import matplotlib.image as mpimg\n",
    "import matplotlib.pyplot as plt"
   ]
  },
  {
   "cell_type": "markdown",
   "metadata": {},
   "source": [
    "# BVU Students Retention model\n",
    "\n",
    "## Goals\n",
    "\n",
    "1. Find factors influencing whether the first year student of Buena Vista University will be back to the school or not; \n",
    "2. Build and analyze model(s) to predict if a student is coming back to the school after their first year;\n",
    "\n",
    "## Key Questions\n",
    "\n",
    "* Which features have the most predicting power;\n",
    "* Which assumptions;\n",
    "* Which ML model to use;"
   ]
  },
  {
   "cell_type": "code",
   "execution_count": 70,
   "metadata": {
    "scrolled": true
   },
   "outputs": [
    {
     "data": {
      "text/html": [
       "<div>\n",
       "<style scoped>\n",
       "    .dataframe tbody tr th:only-of-type {\n",
       "        vertical-align: middle;\n",
       "    }\n",
       "\n",
       "    .dataframe tbody tr th {\n",
       "        vertical-align: top;\n",
       "    }\n",
       "\n",
       "    .dataframe thead th {\n",
       "        text-align: right;\n",
       "    }\n",
       "</style>\n",
       "<table border=\"1\" class=\"dataframe\">\n",
       "  <thead>\n",
       "    <tr style=\"text-align: right;\">\n",
       "      <th></th>\n",
       "      <th>Race</th>\n",
       "      <th>International</th>\n",
       "      <th>Sex</th>\n",
       "      <th>Miles</th>\n",
       "      <th>Commuter</th>\n",
       "      <th>Dorm</th>\n",
       "      <th>IowaResident</th>\n",
       "      <th>SchoolofMajor</th>\n",
       "      <th>Athlete</th>\n",
       "      <th>HSRank</th>\n",
       "      <th>ACTComp</th>\n",
       "      <th>ACTMath</th>\n",
       "      <th>ACTEng</th>\n",
       "      <th>HSGPA</th>\n",
       "      <th>BVGPA</th>\n",
       "      <th>Hrs</th>\n",
       "      <th>Returned</th>\n",
       "    </tr>\n",
       "    <tr>\n",
       "      <th>Research ID</th>\n",
       "      <th></th>\n",
       "      <th></th>\n",
       "      <th></th>\n",
       "      <th></th>\n",
       "      <th></th>\n",
       "      <th></th>\n",
       "      <th></th>\n",
       "      <th></th>\n",
       "      <th></th>\n",
       "      <th></th>\n",
       "      <th></th>\n",
       "      <th></th>\n",
       "      <th></th>\n",
       "      <th></th>\n",
       "      <th></th>\n",
       "      <th></th>\n",
       "      <th></th>\n",
       "    </tr>\n",
       "  </thead>\n",
       "  <tbody>\n",
       "    <tr>\n",
       "      <th>1</th>\n",
       "      <td>E</td>\n",
       "      <td>0</td>\n",
       "      <td>0</td>\n",
       "      <td>70-79</td>\n",
       "      <td>0.0</td>\n",
       "      <td>A</td>\n",
       "      <td>1</td>\n",
       "      <td>I</td>\n",
       "      <td>1</td>\n",
       "      <td>NaN</td>\n",
       "      <td>30.0</td>\n",
       "      <td>30.0</td>\n",
       "      <td>26.0</td>\n",
       "      <td>2.66</td>\n",
       "      <td>0.000</td>\n",
       "      <td>13.0</td>\n",
       "      <td>0</td>\n",
       "    </tr>\n",
       "    <tr>\n",
       "      <th>2</th>\n",
       "      <td>E</td>\n",
       "      <td>0</td>\n",
       "      <td>1</td>\n",
       "      <td>250-274</td>\n",
       "      <td>0.0</td>\n",
       "      <td>C</td>\n",
       "      <td>0</td>\n",
       "      <td>H</td>\n",
       "      <td>2</td>\n",
       "      <td>0.341</td>\n",
       "      <td>18.0</td>\n",
       "      <td>17.0</td>\n",
       "      <td>13.0</td>\n",
       "      <td>3.57</td>\n",
       "      <td>3.000</td>\n",
       "      <td>12.0</td>\n",
       "      <td>0</td>\n",
       "    </tr>\n",
       "    <tr>\n",
       "      <th>3</th>\n",
       "      <td>B</td>\n",
       "      <td>1</td>\n",
       "      <td>1</td>\n",
       "      <td>NaN</td>\n",
       "      <td>0.0</td>\n",
       "      <td>F</td>\n",
       "      <td>0</td>\n",
       "      <td>I</td>\n",
       "      <td>1</td>\n",
       "      <td>NaN</td>\n",
       "      <td>NaN</td>\n",
       "      <td>NaN</td>\n",
       "      <td>NaN</td>\n",
       "      <td>NaN</td>\n",
       "      <td>1.466</td>\n",
       "      <td>15.0</td>\n",
       "      <td>0</td>\n",
       "    </tr>\n",
       "    <tr>\n",
       "      <th>4</th>\n",
       "      <td>B</td>\n",
       "      <td>1</td>\n",
       "      <td>1</td>\n",
       "      <td>NaN</td>\n",
       "      <td>0.0</td>\n",
       "      <td>D</td>\n",
       "      <td>0</td>\n",
       "      <td>K</td>\n",
       "      <td>1</td>\n",
       "      <td>NaN</td>\n",
       "      <td>NaN</td>\n",
       "      <td>NaN</td>\n",
       "      <td>NaN</td>\n",
       "      <td>NaN</td>\n",
       "      <td>3.428</td>\n",
       "      <td>14.0</td>\n",
       "      <td>0</td>\n",
       "    </tr>\n",
       "    <tr>\n",
       "      <th>5</th>\n",
       "      <td>B</td>\n",
       "      <td>1</td>\n",
       "      <td>1</td>\n",
       "      <td>NaN</td>\n",
       "      <td>0.0</td>\n",
       "      <td>D</td>\n",
       "      <td>0</td>\n",
       "      <td>K</td>\n",
       "      <td>1</td>\n",
       "      <td>NaN</td>\n",
       "      <td>NaN</td>\n",
       "      <td>NaN</td>\n",
       "      <td>NaN</td>\n",
       "      <td>NaN</td>\n",
       "      <td>3.000</td>\n",
       "      <td>14.0</td>\n",
       "      <td>0</td>\n",
       "    </tr>\n",
       "  </tbody>\n",
       "</table>\n",
       "</div>"
      ],
      "text/plain": [
       "            Race  International  Sex    Miles  Commuter Dorm  IowaResident  \\\n",
       "Research ID                                                                  \n",
       "1              E              0    0    70-79       0.0    A             1   \n",
       "2              E              0    1  250-274       0.0    C             0   \n",
       "3              B              1    1      NaN       0.0    F             0   \n",
       "4              B              1    1      NaN       0.0    D             0   \n",
       "5              B              1    1      NaN       0.0    D             0   \n",
       "\n",
       "            SchoolofMajor  Athlete  HSRank  ACTComp  ACTMath  ACTEng  HSGPA  \\\n",
       "Research ID                                                                   \n",
       "1                       I        1     NaN     30.0     30.0    26.0   2.66   \n",
       "2                       H        2   0.341     18.0     17.0    13.0   3.57   \n",
       "3                       I        1     NaN      NaN      NaN     NaN    NaN   \n",
       "4                       K        1     NaN      NaN      NaN     NaN    NaN   \n",
       "5                       K        1     NaN      NaN      NaN     NaN    NaN   \n",
       "\n",
       "             BVGPA   Hrs  Returned  \n",
       "Research ID                         \n",
       "1            0.000  13.0         0  \n",
       "2            3.000  12.0         0  \n",
       "3            1.466  15.0         0  \n",
       "4            3.428  14.0         0  \n",
       "5            3.000  14.0         0  "
      ]
     },
     "execution_count": 70,
     "metadata": {},
     "output_type": "execute_result"
    }
   ],
   "source": [
    "pd.set_option('display.max_columns', None)\n",
    "df = pd.read_csv('first_year_students.csv')\n",
    "df.index = df['Research ID']\n",
    "df.drop('Research ID', axis = 1, inplace = True)\n",
    "df.head()"
   ]
  },
  {
   "cell_type": "markdown",
   "metadata": {},
   "source": [
    "## Fields\n",
    "\n",
    "* Race -- letter abbreviation of the race\n",
    "* International -- int, 1 -- international student\n",
    "* Sex -- int, indicator of students' gender\n",
    "* Miles -- categorical, distance from home\n",
    "* Commuter -- int, 1 -- commuter\n",
    "* Dorm -- categorical, indicates the dorm code\n",
    "* IowaResident -- int, 1 -- resident of Iowa\n",
    "* SchoolofMajor -- categorical, code for the school of major\n",
    "* Athlete -- int, athlete status\n",
    "* HSRank -- float, rank at High School\n",
    "* ACTXxxx -- ACT scores:\n",
    "    * ACTComp -- float, ACT Comp score\n",
    "    * ACTMath -- float, ACT Math score\n",
    "    * ACTEng -- float, ACT English score\n",
    "* HSGPA -- float, High School GPA score\n",
    "* BVGPA -- float, Buena Vista University GPA score\n",
    "* Hrs -- float, credit hours taken last semester\n",
    "* Returned -- int, target variable -- student returned (1) or not (0)"
   ]
  },
  {
   "cell_type": "markdown",
   "metadata": {},
   "source": [
    "## Exploratory Analysis\n",
    "\n",
    "### How much missing data are there?\n",
    "\n",
    "* **No missing data**: Race, International, Sex, IowaResident, SchoolofMajor, Athlete, and Returned (target);\n",
    "* **Minor missing data**: Commuter -- one record is missing, Hrs -- 11 values are missing;\n",
    "* **Major missing data**: Miles, Dorm; HSRank, \n",
    "    * ACTComp, ACTMath, ACTEng -- not all students have taken the ACT tests; The presence/absence of these scores may be an indication of students' performance at their high school;\n",
    "    * HSGPA, BVGPA -- High school GPA -- reason missing unknown, possibly not all schools compute GPA, possibly relates to international status. BV GPA -- this may be fixable via university;\n"
   ]
  },
  {
   "cell_type": "code",
   "execution_count": 71,
   "metadata": {},
   "outputs": [
    {
     "data": {
      "text/plain": [
       "Race               0\n",
       "International      0\n",
       "Sex                0\n",
       "Miles             44\n",
       "Commuter           1\n",
       "Dorm             109\n",
       "IowaResident       0\n",
       "SchoolofMajor      0\n",
       "Athlete            0\n",
       "HSRank           111\n",
       "ACTComp           86\n",
       "ACTMath          117\n",
       "ACTEng           118\n",
       "HSGPA             63\n",
       "BVGPA             62\n",
       "Hrs               11\n",
       "Returned           0\n",
       "dtype: int64"
      ]
     },
     "execution_count": 71,
     "metadata": {},
     "output_type": "execute_result"
    }
   ],
   "source": [
    "df.isna().sum()"
   ]
  },
  {
   "cell_type": "markdown",
   "metadata": {},
   "source": [
    "## Target variable: how many students returned?\n",
    "\n",
    "The dataset is out of balance -- ~73\\% students returned after their first year"
   ]
  },
  {
   "cell_type": "code",
   "execution_count": 72,
   "metadata": {},
   "outputs": [
    {
     "name": "stdout",
     "output_type": "stream",
     "text": [
      "Returned: 0.7272\n"
     ]
    }
   ],
   "source": [
    "print(\"Returned: %.4f\"%df.Returned.mean())"
   ]
  },
  {
   "cell_type": "markdown",
   "metadata": {},
   "source": [
    "## Exploring factors\n",
    "\n",
    "### Miles from home\n",
    "\n",
    "This may or may not be a predictive factor. Below is a statistical analysis of factor significance.\n",
    "\n",
    "#### Hypothesis testing: \n",
    "\n",
    "Ha: Miles from home has an effect on retention;\n",
    "\n",
    "H0: Miles has no effect on retention;"
   ]
  },
  {
   "cell_type": "code",
   "execution_count": 73,
   "metadata": {},
   "outputs": [
    {
     "data": {
      "text/html": [
       "<div>\n",
       "<style scoped>\n",
       "    .dataframe tbody tr th:only-of-type {\n",
       "        vertical-align: middle;\n",
       "    }\n",
       "\n",
       "    .dataframe tbody tr th {\n",
       "        vertical-align: top;\n",
       "    }\n",
       "\n",
       "    .dataframe thead th {\n",
       "        text-align: right;\n",
       "    }\n",
       "</style>\n",
       "<table border=\"1\" class=\"dataframe\">\n",
       "  <thead>\n",
       "    <tr style=\"text-align: right;\">\n",
       "      <th></th>\n",
       "      <th>Miles</th>\n",
       "      <th>Returned</th>\n",
       "      <th>from_miles</th>\n",
       "    </tr>\n",
       "    <tr>\n",
       "      <th>Research ID</th>\n",
       "      <th></th>\n",
       "      <th></th>\n",
       "      <th></th>\n",
       "    </tr>\n",
       "  </thead>\n",
       "  <tbody>\n",
       "    <tr>\n",
       "      <th>1</th>\n",
       "      <td>70-79</td>\n",
       "      <td>0</td>\n",
       "      <td>70</td>\n",
       "    </tr>\n",
       "    <tr>\n",
       "      <th>2</th>\n",
       "      <td>250-274</td>\n",
       "      <td>0</td>\n",
       "      <td>250</td>\n",
       "    </tr>\n",
       "    <tr>\n",
       "      <th>93</th>\n",
       "      <td>350-399</td>\n",
       "      <td>1</td>\n",
       "      <td>350</td>\n",
       "    </tr>\n",
       "    <tr>\n",
       "      <th>94</th>\n",
       "      <td>100-109</td>\n",
       "      <td>1</td>\n",
       "      <td>100</td>\n",
       "    </tr>\n",
       "    <tr>\n",
       "      <th>95</th>\n",
       "      <td>70-79</td>\n",
       "      <td>1</td>\n",
       "      <td>70</td>\n",
       "    </tr>\n",
       "  </tbody>\n",
       "</table>\n",
       "</div>"
      ],
      "text/plain": [
       "               Miles  Returned  from_miles\n",
       "Research ID                               \n",
       "1              70-79         0          70\n",
       "2            250-274         0         250\n",
       "93           350-399         1         350\n",
       "94           100-109         1         100\n",
       "95             70-79         1          70"
      ]
     },
     "execution_count": 73,
     "metadata": {},
     "output_type": "execute_result"
    }
   ],
   "source": [
    "df_miles = df[['Miles','Returned']].dropna().copy() # remove missing miles from home\n",
    "df_miles['from_miles'] = df_miles['Miles'].apply( # extract 'from_miles' from the range\n",
    "    lambda x:str(x).split('-')[0] if len(str(x).split('-')) > 0 else 0).astype(int)\n",
    "df_miles.head()"
   ]
  },
  {
   "cell_type": "markdown",
   "metadata": {},
   "source": [
    "Check f_classif function to estimate the significance of the factor. p_value is low (0.0008), this is an indication that the H0 can be rejected:"
   ]
  },
  {
   "cell_type": "code",
   "execution_count": 74,
   "metadata": {},
   "outputs": [
    {
     "name": "stdout",
     "output_type": "stream",
     "text": [
      "p_value: 0.0008\n"
     ]
    }
   ],
   "source": [
    "from sklearn.feature_selection import f_classif\n",
    "\n",
    "p_value = f_classif(df_miles[['from_miles']],df_miles.Returned)[1]\n",
    "print(\"p_value: %.4f\"%p_value)"
   ]
  },
  {
   "cell_type": "markdown",
   "metadata": {},
   "source": [
    "Another test: applying linear regression and testing the p-value of the coefficient. p_value is 0.00077 (as before), the H0 can be rejected. "
   ]
  },
  {
   "cell_type": "code",
   "execution_count": 75,
   "metadata": {},
   "outputs": [
    {
     "data": {
      "text/plain": [
       "(-2.1004367727474384e-05,\n",
       " 0.7348247947502577,\n",
       " -0.055651181315432154,\n",
       " 0.0007718090738908786,\n",
       " 6.2409877898337994e-06)"
      ]
     },
     "execution_count": 75,
     "metadata": {},
     "output_type": "execute_result"
    }
   ],
   "source": [
    "from scipy.stats import linregress\n",
    "slope, intercept, r_value, p_value, std_err = linregress(df_miles.from_miles,df_miles.Returned)\n",
    "slope, intercept, r_value, p_value, std_err"
   ]
  },
  {
   "cell_type": "markdown",
   "metadata": {},
   "source": [
    "p-value < 0.05, H0 -- rejected.\n",
    "\n",
    "#### Miles from home: dealing with the missing values"
   ]
  },
  {
   "cell_type": "code",
   "execution_count": 76,
   "metadata": {},
   "outputs": [
    {
     "name": "stdout",
     "output_type": "stream",
     "text": [
      "Return rate, where miles are missing: 0.5227\n",
      "Return rate, where miles are present: 0.7297\n"
     ]
    }
   ],
   "source": [
    "df_miles = df[['Miles','Returned']].copy()\n",
    "print('Return rate, where miles are missing: %.4f'%df_miles[df_miles.Miles.isna()]['Returned'].mean())\n",
    "print('Return rate, where miles are present: %.4f'%df_miles[~df_miles.Miles.isna()]['Returned'].mean())"
   ]
  },
  {
   "cell_type": "markdown",
   "metadata": {},
   "source": [
    "The absence/presence of miles from home has a predictive power, so add a new feature: 'miles_missing'"
   ]
  },
  {
   "cell_type": "code",
   "execution_count": 77,
   "metadata": {},
   "outputs": [
    {
     "data": {
      "text/plain": [
       "Research ID\n",
       "1    0\n",
       "2    0\n",
       "3    1\n",
       "4    1\n",
       "5    1\n",
       "Name: miles_missing, dtype: int64"
      ]
     },
     "execution_count": 77,
     "metadata": {},
     "output_type": "execute_result"
    }
   ],
   "source": [
    "df['miles_missing'] = df['Miles'].isna().astype(int)\n",
    "df.miles_missing.head()"
   ]
  },
  {
   "cell_type": "markdown",
   "metadata": {},
   "source": [
    "#### Miles from home\n",
    "Convert the categorical value to a number. We expect the distribution to be right-skewed, so let us add a new feature 'log_mean_miles' as well:"
   ]
  },
  {
   "cell_type": "code",
   "execution_count": 78,
   "metadata": {},
   "outputs": [
    {
     "data": {
      "text/html": [
       "<div>\n",
       "<style scoped>\n",
       "    .dataframe tbody tr th:only-of-type {\n",
       "        vertical-align: middle;\n",
       "    }\n",
       "\n",
       "    .dataframe tbody tr th {\n",
       "        vertical-align: top;\n",
       "    }\n",
       "\n",
       "    .dataframe thead th {\n",
       "        text-align: right;\n",
       "    }\n",
       "</style>\n",
       "<table border=\"1\" class=\"dataframe\">\n",
       "  <thead>\n",
       "    <tr style=\"text-align: right;\">\n",
       "      <th></th>\n",
       "      <th>Miles</th>\n",
       "      <th>mean_miles</th>\n",
       "      <th>log_mean_miles</th>\n",
       "      <th>miles_missing</th>\n",
       "    </tr>\n",
       "    <tr>\n",
       "      <th>Research ID</th>\n",
       "      <th></th>\n",
       "      <th></th>\n",
       "      <th></th>\n",
       "      <th></th>\n",
       "    </tr>\n",
       "  </thead>\n",
       "  <tbody>\n",
       "    <tr>\n",
       "      <th>1</th>\n",
       "      <td>70-79</td>\n",
       "      <td>74.5</td>\n",
       "      <td>4.310799</td>\n",
       "      <td>0</td>\n",
       "    </tr>\n",
       "    <tr>\n",
       "      <th>2</th>\n",
       "      <td>250-274</td>\n",
       "      <td>262.0</td>\n",
       "      <td>5.568345</td>\n",
       "      <td>0</td>\n",
       "    </tr>\n",
       "    <tr>\n",
       "      <th>3</th>\n",
       "      <td>NaN</td>\n",
       "      <td>NaN</td>\n",
       "      <td>NaN</td>\n",
       "      <td>1</td>\n",
       "    </tr>\n",
       "    <tr>\n",
       "      <th>4</th>\n",
       "      <td>NaN</td>\n",
       "      <td>NaN</td>\n",
       "      <td>NaN</td>\n",
       "      <td>1</td>\n",
       "    </tr>\n",
       "    <tr>\n",
       "      <th>5</th>\n",
       "      <td>NaN</td>\n",
       "      <td>NaN</td>\n",
       "      <td>NaN</td>\n",
       "      <td>1</td>\n",
       "    </tr>\n",
       "  </tbody>\n",
       "</table>\n",
       "</div>"
      ],
      "text/plain": [
       "               Miles  mean_miles  log_mean_miles  miles_missing\n",
       "Research ID                                                    \n",
       "1              70-79        74.5        4.310799              0\n",
       "2            250-274       262.0        5.568345              0\n",
       "3                NaN         NaN             NaN              1\n",
       "4                NaN         NaN             NaN              1\n",
       "5                NaN         NaN             NaN              1"
      ]
     },
     "execution_count": 78,
     "metadata": {},
     "output_type": "execute_result"
    }
   ],
   "source": [
    "df['mean_miles'] = df.loc[df.miles_missing == 0,'Miles'].apply(lambda x:sum([int(m) for m in str(x).split('-')])/2)\n",
    "df['log_mean_miles'] = np.log(df.mean_miles)\n",
    "df[['Miles','mean_miles','log_mean_miles','miles_missing']].head()"
   ]
  },
  {
   "cell_type": "code",
   "execution_count": 79,
   "metadata": {},
   "outputs": [],
   "source": [
    "# Set missing numerical miles to 0\n",
    "# TODO: change to mean value for the column\n",
    "df.loc[df.miles_missing == 1, ['mean_miles','log_mean_miles']] = 0"
   ]
  },
  {
   "cell_type": "code",
   "execution_count": 80,
   "metadata": {},
   "outputs": [
    {
     "data": {
      "text/plain": [
       "<matplotlib.axes._subplots.AxesSubplot at 0x7f2d54e001d0>"
      ]
     },
     "execution_count": 80,
     "metadata": {},
     "output_type": "execute_result"
    },
    {
     "data": {
      "image/png": "[encoded data removed]",
      "text/plain": [
       "<Figure size 432x288 with 1 Axes>"
      ]
     },
     "metadata": {
      "needs_background": "light"
     },
     "output_type": "display_data"
    }
   ],
   "source": [
    "# The distribution of log_mean_miles is not skewed:\n",
    "sns.distplot(df[df.miles_missing == 0].log_mean_miles)"
   ]
  },
  {
   "cell_type": "markdown",
   "metadata": {},
   "source": [
    "In summary, for miles from home, the following features have been created:\n",
    "\n",
    "* missing_miles -- boolean, y/n the value is missing;\n",
    "* mean_miles -- average miles from home;\n",
    "* log_mean_miles -- natural logarithm of average miles from home;"
   ]
  },
  {
   "cell_type": "markdown",
   "metadata": {},
   "source": [
    "### Race, International, and Sex\n",
    "\n",
    "First, explore the features and their (potential) effect on the target variable. Races E, J, and B tend to have lower return rate as compared to A, G, and I:"
   ]
  },
  {
   "cell_type": "code",
   "execution_count": 81,
   "metadata": {},
   "outputs": [
    {
     "data": {
      "image/png": "[encoded data removed]",
      "text/plain": [
       "<Figure size 432x288 with 1 Axes>"
      ]
     },
     "metadata": {
      "needs_background": "light"
     },
     "output_type": "display_data"
    }
   ],
   "source": [
    "plt.figure()\n",
    "ax = plt.subplot(1,1,1)\n",
    "df.groupby('Race')['Returned'].mean().sort_values(ascending = False).plot(ax = ax,\n",
    "    kind = 'bar', title = 'Race vs. Returned', label = 'rate returned')\n",
    "ax.axhline(y = df.Returned.mean(), label = 'base rate returned', color = 'r')\n",
    "plt.legend()\n",
    "plt.show()"
   ]
  },
  {
   "cell_type": "markdown",
   "metadata": {},
   "source": [
    "Non-international students have higher return rate as compared to internationals:"
   ]
  },
  {
   "cell_type": "code",
   "execution_count": 82,
   "metadata": {},
   "outputs": [
    {
     "data": {
      "text/plain": [
       "International\n",
       "0    0.729863\n",
       "1    0.500000\n",
       "Name: Returned, dtype: float64"
      ]
     },
     "execution_count": 82,
     "metadata": {},
     "output_type": "execute_result"
    }
   ],
   "source": [
    "# Checking international\n",
    "df.groupby('International')['Returned'].mean()"
   ]
  },
  {
   "cell_type": "markdown",
   "metadata": {},
   "source": [
    "Students of sex '0' have higher return rate as compared to those of sex '1': "
   ]
  },
  {
   "cell_type": "code",
   "execution_count": 83,
   "metadata": {},
   "outputs": [
    {
     "data": {
      "text/plain": [
       "Sex\n",
       "0    0.747976\n",
       "1    0.706362\n",
       "Name: Returned, dtype: float64"
      ]
     },
     "execution_count": 83,
     "metadata": {},
     "output_type": "execute_result"
    }
   ],
   "source": [
    "# Checking sex\n",
    "df.groupby('Sex')['Returned'].mean()"
   ]
  },
  {
   "cell_type": "markdown",
   "metadata": {},
   "source": [
    "In summary, it appears that all three features may have predictive power."
   ]
  },
  {
   "cell_type": "markdown",
   "metadata": {},
   "source": [
    "For further analysis, convert the *Race* into one-hot-encoding and test all features with ANOVA, Ridge regression, and LASSO:"
   ]
  },
  {
   "cell_type": "code",
   "execution_count": 84,
   "metadata": {},
   "outputs": [],
   "source": [
    "df_personal = df[['Race','International','Sex']]\n",
    "df_personal = pd.get_dummies(df_personal) # get one-hot-encoding"
   ]
  },
  {
   "cell_type": "code",
   "execution_count": 85,
   "metadata": {},
   "outputs": [
    {
     "data": {
      "text/plain": [
       "[(0.0008776242068933963, 'International'),\n",
       " (0.0008776242068933963, 'Race_B'),\n",
       " (0.0019123090548312524, 'Race_J'),\n",
       " (0.0021267069564537707, 'Race_A'),\n",
       " (0.00452201504648262, 'Sex'),\n",
       " (0.2219381942341431, 'Race_E'),\n",
       " (0.8185268791020879, 'Race_I'),\n",
       " (0.8602458629254127, 'Race_G')]"
      ]
     },
     "execution_count": 85,
     "metadata": {},
     "output_type": "execute_result"
    }
   ],
   "source": [
    "from sklearn.feature_selection import f_regression\n",
    "F,p = f_regression(df_personal,df.Returned)\n",
    "sorted(list(zip(p,df_personal.columns)), key = lambda x:x[0])"
   ]
  },
  {
   "cell_type": "markdown",
   "metadata": {},
   "source": [
    "According to p-values, International, Sex, Race_B, Race_J, and Race_A are significant. The figure above suggests that Race_E may also have an effect. We will include it into the model:"
   ]
  },
  {
   "cell_type": "code",
   "execution_count": 86,
   "metadata": {},
   "outputs": [],
   "source": [
    "df['Race_B'] = df_personal.Race_B\n",
    "df['Race_J'] = df_personal.Race_J\n",
    "df['Race_A'] = df_personal.Race_A\n",
    "df['Race_E'] = df_personal.Race_E"
   ]
  },
  {
   "cell_type": "code",
   "execution_count": 87,
   "metadata": {},
   "outputs": [
    {
     "data": {
      "text/html": [
       "<div>\n",
       "<style scoped>\n",
       "    .dataframe tbody tr th:only-of-type {\n",
       "        vertical-align: middle;\n",
       "    }\n",
       "\n",
       "    .dataframe tbody tr th {\n",
       "        vertical-align: top;\n",
       "    }\n",
       "\n",
       "    .dataframe thead th {\n",
       "        text-align: right;\n",
       "    }\n",
       "</style>\n",
       "<table border=\"1\" class=\"dataframe\">\n",
       "  <thead>\n",
       "    <tr style=\"text-align: right;\">\n",
       "      <th></th>\n",
       "      <th>Race</th>\n",
       "      <th>International</th>\n",
       "      <th>Sex</th>\n",
       "      <th>Miles</th>\n",
       "      <th>Commuter</th>\n",
       "      <th>Dorm</th>\n",
       "      <th>IowaResident</th>\n",
       "      <th>SchoolofMajor</th>\n",
       "      <th>Athlete</th>\n",
       "      <th>HSRank</th>\n",
       "      <th>ACTComp</th>\n",
       "      <th>ACTMath</th>\n",
       "      <th>ACTEng</th>\n",
       "      <th>HSGPA</th>\n",
       "      <th>BVGPA</th>\n",
       "      <th>Hrs</th>\n",
       "      <th>Returned</th>\n",
       "      <th>miles_missing</th>\n",
       "      <th>mean_miles</th>\n",
       "      <th>log_mean_miles</th>\n",
       "      <th>Race_B</th>\n",
       "      <th>Race_J</th>\n",
       "      <th>Race_A</th>\n",
       "      <th>Race_E</th>\n",
       "    </tr>\n",
       "    <tr>\n",
       "      <th>Research ID</th>\n",
       "      <th></th>\n",
       "      <th></th>\n",
       "      <th></th>\n",
       "      <th></th>\n",
       "      <th></th>\n",
       "      <th></th>\n",
       "      <th></th>\n",
       "      <th></th>\n",
       "      <th></th>\n",
       "      <th></th>\n",
       "      <th></th>\n",
       "      <th></th>\n",
       "      <th></th>\n",
       "      <th></th>\n",
       "      <th></th>\n",
       "      <th></th>\n",
       "      <th></th>\n",
       "      <th></th>\n",
       "      <th></th>\n",
       "      <th></th>\n",
       "      <th></th>\n",
       "      <th></th>\n",
       "      <th></th>\n",
       "      <th></th>\n",
       "    </tr>\n",
       "  </thead>\n",
       "  <tbody>\n",
       "    <tr>\n",
       "      <th>1</th>\n",
       "      <td>E</td>\n",
       "      <td>0</td>\n",
       "      <td>0</td>\n",
       "      <td>70-79</td>\n",
       "      <td>0.0</td>\n",
       "      <td>A</td>\n",
       "      <td>1</td>\n",
       "      <td>I</td>\n",
       "      <td>1</td>\n",
       "      <td>NaN</td>\n",
       "      <td>30.0</td>\n",
       "      <td>30.0</td>\n",
       "      <td>26.0</td>\n",
       "      <td>2.66</td>\n",
       "      <td>0.000</td>\n",
       "      <td>13.0</td>\n",
       "      <td>0</td>\n",
       "      <td>0</td>\n",
       "      <td>74.5</td>\n",
       "      <td>4.310799</td>\n",
       "      <td>0</td>\n",
       "      <td>0</td>\n",
       "      <td>0</td>\n",
       "      <td>1</td>\n",
       "    </tr>\n",
       "    <tr>\n",
       "      <th>2</th>\n",
       "      <td>E</td>\n",
       "      <td>0</td>\n",
       "      <td>1</td>\n",
       "      <td>250-274</td>\n",
       "      <td>0.0</td>\n",
       "      <td>C</td>\n",
       "      <td>0</td>\n",
       "      <td>H</td>\n",
       "      <td>2</td>\n",
       "      <td>0.341</td>\n",
       "      <td>18.0</td>\n",
       "      <td>17.0</td>\n",
       "      <td>13.0</td>\n",
       "      <td>3.57</td>\n",
       "      <td>3.000</td>\n",
       "      <td>12.0</td>\n",
       "      <td>0</td>\n",
       "      <td>0</td>\n",
       "      <td>262.0</td>\n",
       "      <td>5.568345</td>\n",
       "      <td>0</td>\n",
       "      <td>0</td>\n",
       "      <td>0</td>\n",
       "      <td>1</td>\n",
       "    </tr>\n",
       "    <tr>\n",
       "      <th>3</th>\n",
       "      <td>B</td>\n",
       "      <td>1</td>\n",
       "      <td>1</td>\n",
       "      <td>NaN</td>\n",
       "      <td>0.0</td>\n",
       "      <td>F</td>\n",
       "      <td>0</td>\n",
       "      <td>I</td>\n",
       "      <td>1</td>\n",
       "      <td>NaN</td>\n",
       "      <td>NaN</td>\n",
       "      <td>NaN</td>\n",
       "      <td>NaN</td>\n",
       "      <td>NaN</td>\n",
       "      <td>1.466</td>\n",
       "      <td>15.0</td>\n",
       "      <td>0</td>\n",
       "      <td>1</td>\n",
       "      <td>0.0</td>\n",
       "      <td>0.000000</td>\n",
       "      <td>1</td>\n",
       "      <td>0</td>\n",
       "      <td>0</td>\n",
       "      <td>0</td>\n",
       "    </tr>\n",
       "    <tr>\n",
       "      <th>4</th>\n",
       "      <td>B</td>\n",
       "      <td>1</td>\n",
       "      <td>1</td>\n",
       "      <td>NaN</td>\n",
       "      <td>0.0</td>\n",
       "      <td>D</td>\n",
       "      <td>0</td>\n",
       "      <td>K</td>\n",
       "      <td>1</td>\n",
       "      <td>NaN</td>\n",
       "      <td>NaN</td>\n",
       "      <td>NaN</td>\n",
       "      <td>NaN</td>\n",
       "      <td>NaN</td>\n",
       "      <td>3.428</td>\n",
       "      <td>14.0</td>\n",
       "      <td>0</td>\n",
       "      <td>1</td>\n",
       "      <td>0.0</td>\n",
       "      <td>0.000000</td>\n",
       "      <td>1</td>\n",
       "      <td>0</td>\n",
       "      <td>0</td>\n",
       "      <td>0</td>\n",
       "    </tr>\n",
       "    <tr>\n",
       "      <th>5</th>\n",
       "      <td>B</td>\n",
       "      <td>1</td>\n",
       "      <td>1</td>\n",
       "      <td>NaN</td>\n",
       "      <td>0.0</td>\n",
       "      <td>D</td>\n",
       "      <td>0</td>\n",
       "      <td>K</td>\n",
       "      <td>1</td>\n",
       "      <td>NaN</td>\n",
       "      <td>NaN</td>\n",
       "      <td>NaN</td>\n",
       "      <td>NaN</td>\n",
       "      <td>NaN</td>\n",
       "      <td>3.000</td>\n",
       "      <td>14.0</td>\n",
       "      <td>0</td>\n",
       "      <td>1</td>\n",
       "      <td>0.0</td>\n",
       "      <td>0.000000</td>\n",
       "      <td>1</td>\n",
       "      <td>0</td>\n",
       "      <td>0</td>\n",
       "      <td>0</td>\n",
       "    </tr>\n",
       "  </tbody>\n",
       "</table>\n",
       "</div>"
      ],
      "text/plain": [
       "            Race  International  Sex    Miles  Commuter Dorm  IowaResident  \\\n",
       "Research ID                                                                  \n",
       "1              E              0    0    70-79       0.0    A             1   \n",
       "2              E              0    1  250-274       0.0    C             0   \n",
       "3              B              1    1      NaN       0.0    F             0   \n",
       "4              B              1    1      NaN       0.0    D             0   \n",
       "5              B              1    1      NaN       0.0    D             0   \n",
       "\n",
       "            SchoolofMajor  Athlete  HSRank  ACTComp  ACTMath  ACTEng  HSGPA  \\\n",
       "Research ID                                                                   \n",
       "1                       I        1     NaN     30.0     30.0    26.0   2.66   \n",
       "2                       H        2   0.341     18.0     17.0    13.0   3.57   \n",
       "3                       I        1     NaN      NaN      NaN     NaN    NaN   \n",
       "4                       K        1     NaN      NaN      NaN     NaN    NaN   \n",
       "5                       K        1     NaN      NaN      NaN     NaN    NaN   \n",
       "\n",
       "             BVGPA   Hrs  Returned  miles_missing  mean_miles  log_mean_miles  \\\n",
       "Research ID                                                                     \n",
       "1            0.000  13.0         0              0        74.5        4.310799   \n",
       "2            3.000  12.0         0              0       262.0        5.568345   \n",
       "3            1.466  15.0         0              1         0.0        0.000000   \n",
       "4            3.428  14.0         0              1         0.0        0.000000   \n",
       "5            3.000  14.0         0              1         0.0        0.000000   \n",
       "\n",
       "             Race_B  Race_J  Race_A  Race_E  \n",
       "Research ID                                  \n",
       "1                 0       0       0       1  \n",
       "2                 0       0       0       1  \n",
       "3                 1       0       0       0  \n",
       "4                 1       0       0       0  \n",
       "5                 1       0       0       0  "
      ]
     },
     "execution_count": 87,
     "metadata": {},
     "output_type": "execute_result"
    }
   ],
   "source": [
    "df.head()"
   ]
  },
  {
   "cell_type": "markdown",
   "metadata": {},
   "source": [
    "### Iowa resident and Commuter fields"
   ]
  },
  {
   "cell_type": "markdown",
   "metadata": {},
   "source": [
    "Students who are Iowa residents have a higher return rate (74%) vs. those who are not (68%):"
   ]
  },
  {
   "cell_type": "code",
   "execution_count": 88,
   "metadata": {},
   "outputs": [
    {
     "data": {
      "text/plain": [
       "IowaResident\n",
       "0    0.675029\n",
       "1    0.743517\n",
       "Name: Returned, dtype: float64"
      ]
     },
     "execution_count": 88,
     "metadata": {},
     "output_type": "execute_result"
    }
   ],
   "source": [
    "df.groupby('IowaResident')['Returned'].mean()"
   ]
  },
  {
   "cell_type": "markdown",
   "metadata": {},
   "source": [
    "Those that have to commute to the school have a significantly lower return rate. Buena Vista University is a residential campus, where only several groups of students are approved to live off-campus, such as those that have family, etc. This factor may be an indirect indication of the family situation."
   ]
  },
  {
   "cell_type": "code",
   "execution_count": 89,
   "metadata": {},
   "outputs": [
    {
     "data": {
      "text/plain": [
       "Commuter\n",
       "0.0    0.731422\n",
       "1.0    0.581633\n",
       "Name: Returned, dtype: float64"
      ]
     },
     "execution_count": 89,
     "metadata": {},
     "output_type": "execute_result"
    }
   ],
   "source": [
    "df.groupby('Commuter')['Returned'].mean()"
   ]
  },
  {
   "cell_type": "code",
   "execution_count": 90,
   "metadata": {},
   "outputs": [],
   "source": [
    "# Commuter has a single value missing. fill it with the mode 0:\n",
    "df.Commuter.mode()\n",
    "df.Commuter.fillna(0, inplace = True)"
   ]
  },
  {
   "cell_type": "markdown",
   "metadata": {},
   "source": [
    "### BV GPA\n",
    "\n",
    "Buena Vista University's GPA after the first semester appears to be another strong predictor. The students who perform well will more likely stay at the university as demonstrated at the graph below. The histogram of GPA's for those that did not come back is almost uniform, suggesting that factors other than BV GPA had affected their decision."
   ]
  },
  {
   "cell_type": "code",
   "execution_count": 91,
   "metadata": {},
   "outputs": [
    {
     "data": {
      "image/png": "[encoded data removed]",
      "text/plain": [
       "<Figure size 432x288 with 1 Axes>"
      ]
     },
     "metadata": {
      "needs_background": "light"
     },
     "output_type": "display_data"
    }
   ],
   "source": [
    "df.loc[df.Returned == 0, 'BVGPA'].plot(kind = 'hist', alpha = 0.5, label = 'not returned')\n",
    "df.loc[df.Returned == 1, 'BVGPA'].plot(kind = 'hist', alpha = 0.5, label = 'returned')\n",
    "plt.legend()\n",
    "plt.show()"
   ]
  },
  {
   "cell_type": "markdown",
   "metadata": {},
   "source": [
    "We will include BV GPA to the model and temporarily replace the missing values with BV GPA mean score. This may need revisiting in the future for other (better) options."
   ]
  },
  {
   "cell_type": "code",
   "execution_count": 92,
   "metadata": {},
   "outputs": [],
   "source": [
    "# Fill in the missing values with mean's\n",
    "# TODO: explore other options here\n",
    "df['BVGPA'].fillna(df.BVGPA.mean(), inplace = True)"
   ]
  },
  {
   "cell_type": "markdown",
   "metadata": {},
   "source": [
    "## Hours taken\n",
    "\n",
    "How many hours the student has taken at BVU demonstrates students' commitment to study and may also be a proxy for other factors, such as family situation (unable to take the regular amount of hours due to other factors).\n",
    "\n",
    "However, the histogram reveals several abnormally high and low hours recorded:"
   ]
  },
  {
   "cell_type": "code",
   "execution_count": 93,
   "metadata": {},
   "outputs": [
    {
     "data": {
      "image/png": "[encoded data removed]",
      "text/plain": [
       "<Figure size 432x288 with 1 Axes>"
      ]
     },
     "metadata": {
      "needs_background": "light"
     },
     "output_type": "display_data"
    }
   ],
   "source": [
    "df.loc[df.Returned == 0, 'Hrs'].plot(kind = 'hist', alpha = 0.5, label = 'not returned')\n",
    "df.loc[df.Returned == 1, 'Hrs'].plot(kind = 'hist', alpha = 0.5, label = 'returned')\n",
    "plt.legend()\n",
    "plt.show()"
   ]
  },
  {
   "cell_type": "markdown",
   "metadata": {},
   "source": [
    "A typical student load per semester is up to 24 credit hours (8 classes). However, 4 student records show hours from 26.5 to 44. It looks like these were incorrectly entered as the **sum** of hours for the two semesters vs. **average** hours. This seems plausible, so these hours will be divide by 2. The smallest (26.5) value, when divided by 2 ~13 is still above the minimum hours required (12) for a full time student."
   ]
  },
  {
   "cell_type": "code",
   "execution_count": 94,
   "metadata": {},
   "outputs": [
    {
     "data": {
      "text/html": [
       "<div>\n",
       "<style scoped>\n",
       "    .dataframe tbody tr th:only-of-type {\n",
       "        vertical-align: middle;\n",
       "    }\n",
       "\n",
       "    .dataframe tbody tr th {\n",
       "        vertical-align: top;\n",
       "    }\n",
       "\n",
       "    .dataframe thead th {\n",
       "        text-align: right;\n",
       "    }\n",
       "</style>\n",
       "<table border=\"1\" class=\"dataframe\">\n",
       "  <thead>\n",
       "    <tr style=\"text-align: right;\">\n",
       "      <th></th>\n",
       "      <th>Race</th>\n",
       "      <th>International</th>\n",
       "      <th>Sex</th>\n",
       "      <th>Miles</th>\n",
       "      <th>Commuter</th>\n",
       "      <th>Dorm</th>\n",
       "      <th>IowaResident</th>\n",
       "      <th>SchoolofMajor</th>\n",
       "      <th>Athlete</th>\n",
       "      <th>HSRank</th>\n",
       "      <th>ACTComp</th>\n",
       "      <th>ACTMath</th>\n",
       "      <th>ACTEng</th>\n",
       "      <th>HSGPA</th>\n",
       "      <th>BVGPA</th>\n",
       "      <th>Hrs</th>\n",
       "      <th>Returned</th>\n",
       "      <th>miles_missing</th>\n",
       "      <th>mean_miles</th>\n",
       "      <th>log_mean_miles</th>\n",
       "      <th>Race_B</th>\n",
       "      <th>Race_J</th>\n",
       "      <th>Race_A</th>\n",
       "      <th>Race_E</th>\n",
       "    </tr>\n",
       "    <tr>\n",
       "      <th>Research ID</th>\n",
       "      <th></th>\n",
       "      <th></th>\n",
       "      <th></th>\n",
       "      <th></th>\n",
       "      <th></th>\n",
       "      <th></th>\n",
       "      <th></th>\n",
       "      <th></th>\n",
       "      <th></th>\n",
       "      <th></th>\n",
       "      <th></th>\n",
       "      <th></th>\n",
       "      <th></th>\n",
       "      <th></th>\n",
       "      <th></th>\n",
       "      <th></th>\n",
       "      <th></th>\n",
       "      <th></th>\n",
       "      <th></th>\n",
       "      <th></th>\n",
       "      <th></th>\n",
       "      <th></th>\n",
       "      <th></th>\n",
       "      <th></th>\n",
       "    </tr>\n",
       "  </thead>\n",
       "  <tbody>\n",
       "    <tr>\n",
       "      <th>1891</th>\n",
       "      <td>A</td>\n",
       "      <td>0</td>\n",
       "      <td>0</td>\n",
       "      <td>60-69</td>\n",
       "      <td>0.0</td>\n",
       "      <td>A</td>\n",
       "      <td>1</td>\n",
       "      <td>J</td>\n",
       "      <td>1</td>\n",
       "      <td>0.157</td>\n",
       "      <td>28.0</td>\n",
       "      <td>26.0</td>\n",
       "      <td>29.0</td>\n",
       "      <td>3.60</td>\n",
       "      <td>3.681</td>\n",
       "      <td>44.0</td>\n",
       "      <td>1</td>\n",
       "      <td>0</td>\n",
       "      <td>64.5</td>\n",
       "      <td>4.166665</td>\n",
       "      <td>0</td>\n",
       "      <td>0</td>\n",
       "      <td>1</td>\n",
       "      <td>0</td>\n",
       "    </tr>\n",
       "    <tr>\n",
       "      <th>2328</th>\n",
       "      <td>G</td>\n",
       "      <td>0</td>\n",
       "      <td>0</td>\n",
       "      <td>50-59</td>\n",
       "      <td>0.0</td>\n",
       "      <td>A</td>\n",
       "      <td>1</td>\n",
       "      <td>H</td>\n",
       "      <td>1</td>\n",
       "      <td>0.300</td>\n",
       "      <td>21.0</td>\n",
       "      <td>22.0</td>\n",
       "      <td>19.0</td>\n",
       "      <td>3.12</td>\n",
       "      <td>3.845</td>\n",
       "      <td>45.0</td>\n",
       "      <td>0</td>\n",
       "      <td>0</td>\n",
       "      <td>54.5</td>\n",
       "      <td>3.998201</td>\n",
       "      <td>0</td>\n",
       "      <td>0</td>\n",
       "      <td>0</td>\n",
       "      <td>0</td>\n",
       "    </tr>\n",
       "    <tr>\n",
       "      <th>3505</th>\n",
       "      <td>A</td>\n",
       "      <td>0</td>\n",
       "      <td>0</td>\n",
       "      <td>20-29</td>\n",
       "      <td>0.0</td>\n",
       "      <td>D</td>\n",
       "      <td>1</td>\n",
       "      <td>H</td>\n",
       "      <td>1</td>\n",
       "      <td>0.136</td>\n",
       "      <td>26.0</td>\n",
       "      <td>28.0</td>\n",
       "      <td>25.0</td>\n",
       "      <td>3.87</td>\n",
       "      <td>3.909</td>\n",
       "      <td>33.0</td>\n",
       "      <td>0</td>\n",
       "      <td>0</td>\n",
       "      <td>24.5</td>\n",
       "      <td>3.198673</td>\n",
       "      <td>0</td>\n",
       "      <td>0</td>\n",
       "      <td>1</td>\n",
       "      <td>0</td>\n",
       "    </tr>\n",
       "    <tr>\n",
       "      <th>4065</th>\n",
       "      <td>A</td>\n",
       "      <td>0</td>\n",
       "      <td>0</td>\n",
       "      <td>200-224</td>\n",
       "      <td>0.0</td>\n",
       "      <td>C</td>\n",
       "      <td>1</td>\n",
       "      <td>G</td>\n",
       "      <td>1</td>\n",
       "      <td>0.708</td>\n",
       "      <td>21.0</td>\n",
       "      <td>17.0</td>\n",
       "      <td>21.0</td>\n",
       "      <td>3.27</td>\n",
       "      <td>2.075</td>\n",
       "      <td>26.5</td>\n",
       "      <td>0</td>\n",
       "      <td>0</td>\n",
       "      <td>212.0</td>\n",
       "      <td>5.356586</td>\n",
       "      <td>0</td>\n",
       "      <td>0</td>\n",
       "      <td>1</td>\n",
       "      <td>0</td>\n",
       "    </tr>\n",
       "  </tbody>\n",
       "</table>\n",
       "</div>"
      ],
      "text/plain": [
       "            Race  International  Sex    Miles  Commuter Dorm  IowaResident  \\\n",
       "Research ID                                                                  \n",
       "1891           A              0    0    60-69       0.0    A             1   \n",
       "2328           G              0    0    50-59       0.0    A             1   \n",
       "3505           A              0    0    20-29       0.0    D             1   \n",
       "4065           A              0    0  200-224       0.0    C             1   \n",
       "\n",
       "            SchoolofMajor  Athlete  HSRank  ACTComp  ACTMath  ACTEng  HSGPA  \\\n",
       "Research ID                                                                   \n",
       "1891                    J        1   0.157     28.0     26.0    29.0   3.60   \n",
       "2328                    H        1   0.300     21.0     22.0    19.0   3.12   \n",
       "3505                    H        1   0.136     26.0     28.0    25.0   3.87   \n",
       "4065                    G        1   0.708     21.0     17.0    21.0   3.27   \n",
       "\n",
       "             BVGPA   Hrs  Returned  miles_missing  mean_miles  log_mean_miles  \\\n",
       "Research ID                                                                     \n",
       "1891         3.681  44.0         1              0        64.5        4.166665   \n",
       "2328         3.845  45.0         0              0        54.5        3.998201   \n",
       "3505         3.909  33.0         0              0        24.5        3.198673   \n",
       "4065         2.075  26.5         0              0       212.0        5.356586   \n",
       "\n",
       "             Race_B  Race_J  Race_A  Race_E  \n",
       "Research ID                                  \n",
       "1891              0       0       1       0  \n",
       "2328              0       0       0       0  \n",
       "3505              0       0       1       0  \n",
       "4065              0       0       1       0  "
      ]
     },
     "execution_count": 94,
     "metadata": {},
     "output_type": "execute_result"
    }
   ],
   "source": [
    "# Abnormally high number of credit hours over 8 classes per semester:\n",
    "df[df.Hrs > 25]"
   ]
  },
  {
   "cell_type": "code",
   "execution_count": 95,
   "metadata": {},
   "outputs": [],
   "source": [
    "df['hours_corrected'] = df.Hrs\n",
    "df['hours_corrected'] = df.hours_corrected.apply(lambda x:x if x < 25 else x/2)"
   ]
  },
  {
   "cell_type": "code",
   "execution_count": 96,
   "metadata": {},
   "outputs": [],
   "source": [
    "# fill in the missing values with means\n",
    "df.hours_corrected.fillna(df.hours_corrected.mean(), inplace = True)"
   ]
  },
  {
   "cell_type": "markdown",
   "metadata": {},
   "source": [
    "## Athlete status\n",
    "\n",
    "Buena Vista University has many athletes and it may be an important factor for future or current students. The analysis below shows difference in the return rate based on athlete status (1 or 2). Let us also check if it is statistically significant or not. "
   ]
  },
  {
   "cell_type": "code",
   "execution_count": 97,
   "metadata": {},
   "outputs": [
    {
     "data": {
      "text/plain": [
       "Athlete\n",
       "1    0.716964\n",
       "2    0.743113\n",
       "Name: Returned, dtype: float64"
      ]
     },
     "execution_count": 97,
     "metadata": {},
     "output_type": "execute_result"
    }
   ],
   "source": [
    "df.groupby('Athlete')['Returned'].mean()"
   ]
  },
  {
   "cell_type": "code",
   "execution_count": 98,
   "metadata": {},
   "outputs": [
    {
     "name": "stdout",
     "output_type": "stream",
     "text": [
      "p_value: 0.0814\n"
     ]
    }
   ],
   "source": [
    "p_value = f_classif(df[['Athlete']],df_miles.Returned)[1]\n",
    "print(\"p_value: %.4f\"%p_value)"
   ]
  },
  {
   "cell_type": "markdown",
   "metadata": {},
   "source": [
    "The athlete status fails the hypothesis testing. The p-value is high (0.08), we **fail to reject the null hypothesis**. We will exclude athlete status from our analysis for now. "
   ]
  },
  {
   "cell_type": "markdown",
   "metadata": {},
   "source": [
    "## Academic scores\n",
    "\n",
    "Academic scores are likely strong predictors of the target variable. However, they have multiple values missing. As previously mentioned, the values are **not missing randomly** and it may be an indication of students' decision not to take the test or the school not administering the tests. "
   ]
  },
  {
   "cell_type": "code",
   "execution_count": 99,
   "metadata": {},
   "outputs": [
    {
     "data": {
      "text/plain": [
       "HSRank     111\n",
       "ACTComp     86\n",
       "ACTMath    117\n",
       "ACTEng     118\n",
       "HSGPA       63\n",
       "dtype: int64"
      ]
     },
     "execution_count": 99,
     "metadata": {},
     "output_type": "execute_result"
    }
   ],
   "source": [
    "df[['HSRank','ACTComp','ACTMath','ACTEng','HSGPA']].isna().sum()"
   ]
  },
  {
   "cell_type": "code",
   "execution_count": 100,
   "metadata": {},
   "outputs": [
    {
     "data": {
      "text/plain": [
       "HSRank      0.336527\n",
       "ACTComp    22.318913\n",
       "ACTMath    21.914126\n",
       "ACTEng     21.535255\n",
       "HSGPA       3.324877\n",
       "dtype: float64"
      ]
     },
     "execution_count": 100,
     "metadata": {},
     "output_type": "execute_result"
    }
   ],
   "source": [
    "df[['HSRank','ACTComp','ACTMath','ACTEng','HSGPA']].mean()"
   ]
  },
  {
   "cell_type": "markdown",
   "metadata": {},
   "source": [
    "Check statistical significance of the fields. All fields have low p-values:"
   ]
  },
  {
   "cell_type": "code",
   "execution_count": 101,
   "metadata": {},
   "outputs": [
    {
     "data": {
      "text/plain": [
       "[('HSRank', 2.282557604056117e-51),\n",
       " ('ACTComp', 2.0444738245814064e-24),\n",
       " ('ACTMath', 1.8478960192592148e-25),\n",
       " ('ACTEng', 6.005565451998721e-17),\n",
       " ('HSGPA', 6.573772927791943e-54)]"
      ]
     },
     "execution_count": 101,
     "metadata": {},
     "output_type": "execute_result"
    }
   ],
   "source": [
    "df_scores = df[['HSRank','ACTComp','ACTMath','ACTEng','HSGPA','Returned']].copy().dropna()\n",
    "p_value = f_classif(df_scores.drop('Returned', axis = 1),df_scores.Returned)[1]\n",
    "list(zip(['HSRank','ACTComp','ACTMath','ACTEng','HSGPA'],p_value))"
   ]
  },
  {
   "cell_type": "markdown",
   "metadata": {},
   "source": [
    "#### Is absence of scores statistically significant?"
   ]
  },
  {
   "cell_type": "code",
   "execution_count": 102,
   "metadata": {},
   "outputs": [
    {
     "data": {
      "text/html": [
       "<div>\n",
       "<style scoped>\n",
       "    .dataframe tbody tr th:only-of-type {\n",
       "        vertical-align: middle;\n",
       "    }\n",
       "\n",
       "    .dataframe tbody tr th {\n",
       "        vertical-align: top;\n",
       "    }\n",
       "\n",
       "    .dataframe thead th {\n",
       "        text-align: right;\n",
       "    }\n",
       "</style>\n",
       "<table border=\"1\" class=\"dataframe\">\n",
       "  <thead>\n",
       "    <tr style=\"text-align: right;\">\n",
       "      <th></th>\n",
       "      <th>HSRank</th>\n",
       "      <th>ACTComp</th>\n",
       "      <th>ACTMath</th>\n",
       "      <th>ACTEng</th>\n",
       "      <th>HSGPA</th>\n",
       "      <th>Returned</th>\n",
       "    </tr>\n",
       "    <tr>\n",
       "      <th>Research ID</th>\n",
       "      <th></th>\n",
       "      <th></th>\n",
       "      <th></th>\n",
       "      <th></th>\n",
       "      <th></th>\n",
       "      <th></th>\n",
       "    </tr>\n",
       "  </thead>\n",
       "  <tbody>\n",
       "    <tr>\n",
       "      <th>1</th>\n",
       "      <td>1</td>\n",
       "      <td>0</td>\n",
       "      <td>0</td>\n",
       "      <td>0</td>\n",
       "      <td>0</td>\n",
       "      <td>0</td>\n",
       "    </tr>\n",
       "    <tr>\n",
       "      <th>2</th>\n",
       "      <td>0</td>\n",
       "      <td>0</td>\n",
       "      <td>0</td>\n",
       "      <td>0</td>\n",
       "      <td>0</td>\n",
       "      <td>0</td>\n",
       "    </tr>\n",
       "    <tr>\n",
       "      <th>3</th>\n",
       "      <td>1</td>\n",
       "      <td>1</td>\n",
       "      <td>1</td>\n",
       "      <td>1</td>\n",
       "      <td>1</td>\n",
       "      <td>0</td>\n",
       "    </tr>\n",
       "    <tr>\n",
       "      <th>4</th>\n",
       "      <td>1</td>\n",
       "      <td>1</td>\n",
       "      <td>1</td>\n",
       "      <td>1</td>\n",
       "      <td>1</td>\n",
       "      <td>0</td>\n",
       "    </tr>\n",
       "    <tr>\n",
       "      <th>5</th>\n",
       "      <td>1</td>\n",
       "      <td>1</td>\n",
       "      <td>1</td>\n",
       "      <td>1</td>\n",
       "      <td>1</td>\n",
       "      <td>0</td>\n",
       "    </tr>\n",
       "  </tbody>\n",
       "</table>\n",
       "</div>"
      ],
      "text/plain": [
       "             HSRank  ACTComp  ACTMath  ACTEng  HSGPA  Returned\n",
       "Research ID                                                   \n",
       "1                 1        0        0       0      0         0\n",
       "2                 0        0        0       0      0         0\n",
       "3                 1        1        1       1      1         0\n",
       "4                 1        1        1       1      1         0\n",
       "5                 1        1        1       1      1         0"
      ]
     },
     "execution_count": 102,
     "metadata": {},
     "output_type": "execute_result"
    }
   ],
   "source": [
    "df_scores = df[['HSRank','ACTComp','ACTMath','ACTEng','HSGPA','Returned']].copy()\n",
    "df_scores_present = df_scores.isna().copy().astype(int)\n",
    "df_scores_present['Returned'] = df_scores['Returned']\n",
    "df_scores_present.head()"
   ]
  },
  {
   "cell_type": "code",
   "execution_count": 103,
   "metadata": {},
   "outputs": [
    {
     "data": {
      "text/plain": [
       "[('HSRank', 0.002971645133557204),\n",
       " ('ACTComp', 0.01938359332744131),\n",
       " ('ACTMath', 0.00031019288776900565),\n",
       " ('ACTEng', 0.00040875100270391625),\n",
       " ('HSGPA', 0.011874775661496794)]"
      ]
     },
     "execution_count": 103,
     "metadata": {},
     "output_type": "execute_result"
    }
   ],
   "source": [
    "p_value = f_classif(df_scores_present.drop('Returned', axis = 1),df_scores_present.Returned)[1]\n",
    "list(zip(['HSRank','ACTComp','ACTMath','ACTEng','HSGPA'],p_value))"
   ]
  },
  {
   "cell_type": "markdown",
   "metadata": {},
   "source": [
    "All features listed above are statistically significant as well as presence/absence of high school rank & GPA, and ACT scores. We will include presence/absence to our model and fill the missing academic score values with their means. "
   ]
  },
  {
   "cell_type": "code",
   "execution_count": 104,
   "metadata": {},
   "outputs": [
    {
     "data": {
      "text/html": [
       "<div>\n",
       "<style scoped>\n",
       "    .dataframe tbody tr th:only-of-type {\n",
       "        vertical-align: middle;\n",
       "    }\n",
       "\n",
       "    .dataframe tbody tr th {\n",
       "        vertical-align: top;\n",
       "    }\n",
       "\n",
       "    .dataframe thead th {\n",
       "        text-align: right;\n",
       "    }\n",
       "</style>\n",
       "<table border=\"1\" class=\"dataframe\">\n",
       "  <thead>\n",
       "    <tr style=\"text-align: right;\">\n",
       "      <th></th>\n",
       "      <th>Race</th>\n",
       "      <th>International</th>\n",
       "      <th>Sex</th>\n",
       "      <th>Miles</th>\n",
       "      <th>Commuter</th>\n",
       "      <th>Dorm</th>\n",
       "      <th>IowaResident</th>\n",
       "      <th>SchoolofMajor</th>\n",
       "      <th>Athlete</th>\n",
       "      <th>HSRank</th>\n",
       "      <th>ACTComp</th>\n",
       "      <th>ACTMath</th>\n",
       "      <th>ACTEng</th>\n",
       "      <th>HSGPA</th>\n",
       "      <th>BVGPA</th>\n",
       "      <th>Hrs</th>\n",
       "      <th>Returned</th>\n",
       "      <th>miles_missing</th>\n",
       "      <th>mean_miles</th>\n",
       "      <th>log_mean_miles</th>\n",
       "      <th>Race_B</th>\n",
       "      <th>Race_J</th>\n",
       "      <th>Race_A</th>\n",
       "      <th>Race_E</th>\n",
       "      <th>hours_corrected</th>\n",
       "      <th>HSRank_present</th>\n",
       "      <th>ACTComp_present</th>\n",
       "      <th>ACTMath_present</th>\n",
       "      <th>ACTEng_present</th>\n",
       "      <th>HSGPA_present</th>\n",
       "    </tr>\n",
       "    <tr>\n",
       "      <th>Research ID</th>\n",
       "      <th></th>\n",
       "      <th></th>\n",
       "      <th></th>\n",
       "      <th></th>\n",
       "      <th></th>\n",
       "      <th></th>\n",
       "      <th></th>\n",
       "      <th></th>\n",
       "      <th></th>\n",
       "      <th></th>\n",
       "      <th></th>\n",
       "      <th></th>\n",
       "      <th></th>\n",
       "      <th></th>\n",
       "      <th></th>\n",
       "      <th></th>\n",
       "      <th></th>\n",
       "      <th></th>\n",
       "      <th></th>\n",
       "      <th></th>\n",
       "      <th></th>\n",
       "      <th></th>\n",
       "      <th></th>\n",
       "      <th></th>\n",
       "      <th></th>\n",
       "      <th></th>\n",
       "      <th></th>\n",
       "      <th></th>\n",
       "      <th></th>\n",
       "      <th></th>\n",
       "    </tr>\n",
       "  </thead>\n",
       "  <tbody>\n",
       "    <tr>\n",
       "      <th>1</th>\n",
       "      <td>E</td>\n",
       "      <td>0</td>\n",
       "      <td>0</td>\n",
       "      <td>70-79</td>\n",
       "      <td>0.0</td>\n",
       "      <td>A</td>\n",
       "      <td>1</td>\n",
       "      <td>I</td>\n",
       "      <td>1</td>\n",
       "      <td>0.336527</td>\n",
       "      <td>30.000000</td>\n",
       "      <td>30.000000</td>\n",
       "      <td>26.000000</td>\n",
       "      <td>2.660000</td>\n",
       "      <td>0.000</td>\n",
       "      <td>13.0</td>\n",
       "      <td>0</td>\n",
       "      <td>0</td>\n",
       "      <td>74.5</td>\n",
       "      <td>4.310799</td>\n",
       "      <td>0</td>\n",
       "      <td>0</td>\n",
       "      <td>0</td>\n",
       "      <td>1</td>\n",
       "      <td>13.0</td>\n",
       "      <td>1</td>\n",
       "      <td>0</td>\n",
       "      <td>0</td>\n",
       "      <td>0</td>\n",
       "      <td>0</td>\n",
       "    </tr>\n",
       "    <tr>\n",
       "      <th>2</th>\n",
       "      <td>E</td>\n",
       "      <td>0</td>\n",
       "      <td>1</td>\n",
       "      <td>250-274</td>\n",
       "      <td>0.0</td>\n",
       "      <td>C</td>\n",
       "      <td>0</td>\n",
       "      <td>H</td>\n",
       "      <td>2</td>\n",
       "      <td>0.341000</td>\n",
       "      <td>18.000000</td>\n",
       "      <td>17.000000</td>\n",
       "      <td>13.000000</td>\n",
       "      <td>3.570000</td>\n",
       "      <td>3.000</td>\n",
       "      <td>12.0</td>\n",
       "      <td>0</td>\n",
       "      <td>0</td>\n",
       "      <td>262.0</td>\n",
       "      <td>5.568345</td>\n",
       "      <td>0</td>\n",
       "      <td>0</td>\n",
       "      <td>0</td>\n",
       "      <td>1</td>\n",
       "      <td>12.0</td>\n",
       "      <td>0</td>\n",
       "      <td>0</td>\n",
       "      <td>0</td>\n",
       "      <td>0</td>\n",
       "      <td>0</td>\n",
       "    </tr>\n",
       "    <tr>\n",
       "      <th>3</th>\n",
       "      <td>B</td>\n",
       "      <td>1</td>\n",
       "      <td>1</td>\n",
       "      <td>NaN</td>\n",
       "      <td>0.0</td>\n",
       "      <td>F</td>\n",
       "      <td>0</td>\n",
       "      <td>I</td>\n",
       "      <td>1</td>\n",
       "      <td>0.336527</td>\n",
       "      <td>22.318913</td>\n",
       "      <td>21.914126</td>\n",
       "      <td>21.535255</td>\n",
       "      <td>3.324877</td>\n",
       "      <td>1.466</td>\n",
       "      <td>15.0</td>\n",
       "      <td>0</td>\n",
       "      <td>1</td>\n",
       "      <td>0.0</td>\n",
       "      <td>0.000000</td>\n",
       "      <td>1</td>\n",
       "      <td>0</td>\n",
       "      <td>0</td>\n",
       "      <td>0</td>\n",
       "      <td>15.0</td>\n",
       "      <td>1</td>\n",
       "      <td>1</td>\n",
       "      <td>1</td>\n",
       "      <td>1</td>\n",
       "      <td>1</td>\n",
       "    </tr>\n",
       "    <tr>\n",
       "      <th>4</th>\n",
       "      <td>B</td>\n",
       "      <td>1</td>\n",
       "      <td>1</td>\n",
       "      <td>NaN</td>\n",
       "      <td>0.0</td>\n",
       "      <td>D</td>\n",
       "      <td>0</td>\n",
       "      <td>K</td>\n",
       "      <td>1</td>\n",
       "      <td>0.336527</td>\n",
       "      <td>22.318913</td>\n",
       "      <td>21.914126</td>\n",
       "      <td>21.535255</td>\n",
       "      <td>3.324877</td>\n",
       "      <td>3.428</td>\n",
       "      <td>14.0</td>\n",
       "      <td>0</td>\n",
       "      <td>1</td>\n",
       "      <td>0.0</td>\n",
       "      <td>0.000000</td>\n",
       "      <td>1</td>\n",
       "      <td>0</td>\n",
       "      <td>0</td>\n",
       "      <td>0</td>\n",
       "      <td>14.0</td>\n",
       "      <td>1</td>\n",
       "      <td>1</td>\n",
       "      <td>1</td>\n",
       "      <td>1</td>\n",
       "      <td>1</td>\n",
       "    </tr>\n",
       "    <tr>\n",
       "      <th>5</th>\n",
       "      <td>B</td>\n",
       "      <td>1</td>\n",
       "      <td>1</td>\n",
       "      <td>NaN</td>\n",
       "      <td>0.0</td>\n",
       "      <td>D</td>\n",
       "      <td>0</td>\n",
       "      <td>K</td>\n",
       "      <td>1</td>\n",
       "      <td>0.336527</td>\n",
       "      <td>22.318913</td>\n",
       "      <td>21.914126</td>\n",
       "      <td>21.535255</td>\n",
       "      <td>3.324877</td>\n",
       "      <td>3.000</td>\n",
       "      <td>14.0</td>\n",
       "      <td>0</td>\n",
       "      <td>1</td>\n",
       "      <td>0.0</td>\n",
       "      <td>0.000000</td>\n",
       "      <td>1</td>\n",
       "      <td>0</td>\n",
       "      <td>0</td>\n",
       "      <td>0</td>\n",
       "      <td>14.0</td>\n",
       "      <td>1</td>\n",
       "      <td>1</td>\n",
       "      <td>1</td>\n",
       "      <td>1</td>\n",
       "      <td>1</td>\n",
       "    </tr>\n",
       "  </tbody>\n",
       "</table>\n",
       "</div>"
      ],
      "text/plain": [
       "            Race  International  Sex    Miles  Commuter Dorm  IowaResident  \\\n",
       "Research ID                                                                  \n",
       "1              E              0    0    70-79       0.0    A             1   \n",
       "2              E              0    1  250-274       0.0    C             0   \n",
       "3              B              1    1      NaN       0.0    F             0   \n",
       "4              B              1    1      NaN       0.0    D             0   \n",
       "5              B              1    1      NaN       0.0    D             0   \n",
       "\n",
       "            SchoolofMajor  Athlete    HSRank    ACTComp    ACTMath     ACTEng  \\\n",
       "Research ID                                                                     \n",
       "1                       I        1  0.336527  30.000000  30.000000  26.000000   \n",
       "2                       H        2  0.341000  18.000000  17.000000  13.000000   \n",
       "3                       I        1  0.336527  22.318913  21.914126  21.535255   \n",
       "4                       K        1  0.336527  22.318913  21.914126  21.535255   \n",
       "5                       K        1  0.336527  22.318913  21.914126  21.535255   \n",
       "\n",
       "                HSGPA  BVGPA   Hrs  Returned  miles_missing  mean_miles  \\\n",
       "Research ID                                                               \n",
       "1            2.660000  0.000  13.0         0              0        74.5   \n",
       "2            3.570000  3.000  12.0         0              0       262.0   \n",
       "3            3.324877  1.466  15.0         0              1         0.0   \n",
       "4            3.324877  3.428  14.0         0              1         0.0   \n",
       "5            3.324877  3.000  14.0         0              1         0.0   \n",
       "\n",
       "             log_mean_miles  Race_B  Race_J  Race_A  Race_E  hours_corrected  \\\n",
       "Research ID                                                                    \n",
       "1                  4.310799       0       0       0       1             13.0   \n",
       "2                  5.568345       0       0       0       1             12.0   \n",
       "3                  0.000000       1       0       0       0             15.0   \n",
       "4                  0.000000       1       0       0       0             14.0   \n",
       "5                  0.000000       1       0       0       0             14.0   \n",
       "\n",
       "             HSRank_present  ACTComp_present  ACTMath_present  ACTEng_present  \\\n",
       "Research ID                                                                     \n",
       "1                         1                0                0               0   \n",
       "2                         0                0                0               0   \n",
       "3                         1                1                1               1   \n",
       "4                         1                1                1               1   \n",
       "5                         1                1                1               1   \n",
       "\n",
       "             HSGPA_present  \n",
       "Research ID                 \n",
       "1                        0  \n",
       "2                        0  \n",
       "3                        1  \n",
       "4                        1  \n",
       "5                        1  "
      ]
     },
     "execution_count": 104,
     "metadata": {},
     "output_type": "execute_result"
    }
   ],
   "source": [
    "for c in df_scores_present.drop('Returned', axis = 1).columns:\n",
    "    col_name = c+'_present'\n",
    "    df[col_name] = df_scores_present[c]\n",
    "    \n",
    "for c in ['HSRank','ACTComp','ACTMath','ACTEng','HSGPA']:\n",
    "    mean_score = df[c].mean()\n",
    "    df[c].fillna(mean_score, inplace = True)\n",
    "df.head()"
   ]
  },
  {
   "cell_type": "markdown",
   "metadata": {},
   "source": [
    "### School of Major and Dorm\n",
    "\n",
    "Here we study the potential effect(s) of Schoolf Major and Dorm on the return rates. While school of major does not have any missing values, Dorm has ~107 of those. The fact that the data is missing may or may not be random, we will impute 'U' for unknown dorm:"
   ]
  },
  {
   "cell_type": "code",
   "execution_count": 263,
   "metadata": {},
   "outputs": [],
   "source": [
    "df_school = df[['SchoolofMajor','Dorm']].copy()\n",
    "df_school['Dorm'].fillna('U', inplace = True) # impute 'U' for unknown dorm\n",
    "df_school = pd.get_dummies(df_school[['SchoolofMajor','Dorm']])"
   ]
  },
  {
   "cell_type": "code",
   "execution_count": 264,
   "metadata": {},
   "outputs": [
    {
     "data": {
      "text/plain": [
       "[('Dorm_U', 3.3413112e-06),\n",
       " ('Dorm_B', 6.684442e-05),\n",
       " ('Dorm_E', 0.00019486317),\n",
       " ('SchoolofMajor_K', 0.0019382931),\n",
       " ('Dorm_A', 0.0043622716),\n",
       " ('SchoolofMajor_G', 0.07861868),\n",
       " ('Dorm_F', 0.10249952),\n",
       " ('SchoolofMajor_I', 0.15697381),\n",
       " ('Dorm_D', 0.27927324),\n",
       " ('SchoolofMajor_F', 0.35182652),\n",
       " ('SchoolofMajor_J', 0.60936564),\n",
       " ('Dorm_C', 0.9622182),\n",
       " ('SchoolofMajor_H', 0.96904784)]"
      ]
     },
     "execution_count": 264,
     "metadata": {},
     "output_type": "execute_result"
    }
   ],
   "source": [
    "sorted(list(zip(df_school.columns,f_classif(df_school,df.Returned)[1])), key = lambda x:x[1])"
   ]
  },
  {
   "cell_type": "markdown",
   "metadata": {},
   "source": [
    "It appears that dorms B, E, A, and U (unknown); as well as School of Major 'K' have an effect on return rate. We will include these fields to the model:"
   ]
  },
  {
   "cell_type": "code",
   "execution_count": 265,
   "metadata": {},
   "outputs": [],
   "source": [
    "for f, p in sorted(list(zip(df_school.columns,f_classif(df_school,df.Returned)[1])), key = lambda x:x[1]):\n",
    "    if p < 0.05:\n",
    "        df[f] = df_school[f]"
   ]
  },
  {
   "cell_type": "code",
   "execution_count": 266,
   "metadata": {},
   "outputs": [
    {
     "data": {
      "text/html": [
       "<div>\n",
       "<style scoped>\n",
       "    .dataframe tbody tr th:only-of-type {\n",
       "        vertical-align: middle;\n",
       "    }\n",
       "\n",
       "    .dataframe tbody tr th {\n",
       "        vertical-align: top;\n",
       "    }\n",
       "\n",
       "    .dataframe thead th {\n",
       "        text-align: right;\n",
       "    }\n",
       "</style>\n",
       "<table border=\"1\" class=\"dataframe\">\n",
       "  <thead>\n",
       "    <tr style=\"text-align: right;\">\n",
       "      <th></th>\n",
       "      <th>Race</th>\n",
       "      <th>International</th>\n",
       "      <th>Sex</th>\n",
       "      <th>Miles</th>\n",
       "      <th>Commuter</th>\n",
       "      <th>Dorm</th>\n",
       "      <th>IowaResident</th>\n",
       "      <th>SchoolofMajor</th>\n",
       "      <th>Athlete</th>\n",
       "      <th>HSRank</th>\n",
       "      <th>ACTComp</th>\n",
       "      <th>ACTMath</th>\n",
       "      <th>ACTEng</th>\n",
       "      <th>HSGPA</th>\n",
       "      <th>BVGPA</th>\n",
       "      <th>Hrs</th>\n",
       "      <th>Returned</th>\n",
       "      <th>miles_missing</th>\n",
       "      <th>mean_miles</th>\n",
       "      <th>log_mean_miles</th>\n",
       "      <th>Race_B</th>\n",
       "      <th>Race_J</th>\n",
       "      <th>Race_A</th>\n",
       "      <th>Race_E</th>\n",
       "      <th>hours_corrected</th>\n",
       "      <th>HSRank_present</th>\n",
       "      <th>ACTComp_present</th>\n",
       "      <th>ACTMath_present</th>\n",
       "      <th>ACTEng_present</th>\n",
       "      <th>HSGPA_present</th>\n",
       "      <th>Dorm_U</th>\n",
       "      <th>Dorm_B</th>\n",
       "      <th>Dorm_E</th>\n",
       "      <th>SchoolofMajor_K</th>\n",
       "      <th>Dorm_A</th>\n",
       "    </tr>\n",
       "    <tr>\n",
       "      <th>Research ID</th>\n",
       "      <th></th>\n",
       "      <th></th>\n",
       "      <th></th>\n",
       "      <th></th>\n",
       "      <th></th>\n",
       "      <th></th>\n",
       "      <th></th>\n",
       "      <th></th>\n",
       "      <th></th>\n",
       "      <th></th>\n",
       "      <th></th>\n",
       "      <th></th>\n",
       "      <th></th>\n",
       "      <th></th>\n",
       "      <th></th>\n",
       "      <th></th>\n",
       "      <th></th>\n",
       "      <th></th>\n",
       "      <th></th>\n",
       "      <th></th>\n",
       "      <th></th>\n",
       "      <th></th>\n",
       "      <th></th>\n",
       "      <th></th>\n",
       "      <th></th>\n",
       "      <th></th>\n",
       "      <th></th>\n",
       "      <th></th>\n",
       "      <th></th>\n",
       "      <th></th>\n",
       "      <th></th>\n",
       "      <th></th>\n",
       "      <th></th>\n",
       "      <th></th>\n",
       "      <th></th>\n",
       "    </tr>\n",
       "  </thead>\n",
       "  <tbody>\n",
       "    <tr>\n",
       "      <th>1</th>\n",
       "      <td>E</td>\n",
       "      <td>0</td>\n",
       "      <td>0</td>\n",
       "      <td>70-79</td>\n",
       "      <td>0.0</td>\n",
       "      <td>A</td>\n",
       "      <td>1</td>\n",
       "      <td>I</td>\n",
       "      <td>1</td>\n",
       "      <td>0.336527</td>\n",
       "      <td>30.000000</td>\n",
       "      <td>30.000000</td>\n",
       "      <td>26.000000</td>\n",
       "      <td>2.660000</td>\n",
       "      <td>0.000</td>\n",
       "      <td>13.0</td>\n",
       "      <td>0</td>\n",
       "      <td>0</td>\n",
       "      <td>74.5</td>\n",
       "      <td>4.310799</td>\n",
       "      <td>0</td>\n",
       "      <td>0</td>\n",
       "      <td>0</td>\n",
       "      <td>1</td>\n",
       "      <td>13.0</td>\n",
       "      <td>1</td>\n",
       "      <td>0</td>\n",
       "      <td>0</td>\n",
       "      <td>0</td>\n",
       "      <td>0</td>\n",
       "      <td>0</td>\n",
       "      <td>0</td>\n",
       "      <td>0</td>\n",
       "      <td>0</td>\n",
       "      <td>1</td>\n",
       "    </tr>\n",
       "    <tr>\n",
       "      <th>2</th>\n",
       "      <td>E</td>\n",
       "      <td>0</td>\n",
       "      <td>1</td>\n",
       "      <td>250-274</td>\n",
       "      <td>0.0</td>\n",
       "      <td>C</td>\n",
       "      <td>0</td>\n",
       "      <td>H</td>\n",
       "      <td>2</td>\n",
       "      <td>0.341000</td>\n",
       "      <td>18.000000</td>\n",
       "      <td>17.000000</td>\n",
       "      <td>13.000000</td>\n",
       "      <td>3.570000</td>\n",
       "      <td>3.000</td>\n",
       "      <td>12.0</td>\n",
       "      <td>0</td>\n",
       "      <td>0</td>\n",
       "      <td>262.0</td>\n",
       "      <td>5.568345</td>\n",
       "      <td>0</td>\n",
       "      <td>0</td>\n",
       "      <td>0</td>\n",
       "      <td>1</td>\n",
       "      <td>12.0</td>\n",
       "      <td>0</td>\n",
       "      <td>0</td>\n",
       "      <td>0</td>\n",
       "      <td>0</td>\n",
       "      <td>0</td>\n",
       "      <td>0</td>\n",
       "      <td>0</td>\n",
       "      <td>0</td>\n",
       "      <td>0</td>\n",
       "      <td>0</td>\n",
       "    </tr>\n",
       "    <tr>\n",
       "      <th>3</th>\n",
       "      <td>B</td>\n",
       "      <td>1</td>\n",
       "      <td>1</td>\n",
       "      <td>NaN</td>\n",
       "      <td>0.0</td>\n",
       "      <td>F</td>\n",
       "      <td>0</td>\n",
       "      <td>I</td>\n",
       "      <td>1</td>\n",
       "      <td>0.336527</td>\n",
       "      <td>22.318913</td>\n",
       "      <td>21.914126</td>\n",
       "      <td>21.535255</td>\n",
       "      <td>3.324877</td>\n",
       "      <td>1.466</td>\n",
       "      <td>15.0</td>\n",
       "      <td>0</td>\n",
       "      <td>1</td>\n",
       "      <td>0.0</td>\n",
       "      <td>0.000000</td>\n",
       "      <td>1</td>\n",
       "      <td>0</td>\n",
       "      <td>0</td>\n",
       "      <td>0</td>\n",
       "      <td>15.0</td>\n",
       "      <td>1</td>\n",
       "      <td>1</td>\n",
       "      <td>1</td>\n",
       "      <td>1</td>\n",
       "      <td>1</td>\n",
       "      <td>0</td>\n",
       "      <td>0</td>\n",
       "      <td>0</td>\n",
       "      <td>0</td>\n",
       "      <td>0</td>\n",
       "    </tr>\n",
       "    <tr>\n",
       "      <th>4</th>\n",
       "      <td>B</td>\n",
       "      <td>1</td>\n",
       "      <td>1</td>\n",
       "      <td>NaN</td>\n",
       "      <td>0.0</td>\n",
       "      <td>D</td>\n",
       "      <td>0</td>\n",
       "      <td>K</td>\n",
       "      <td>1</td>\n",
       "      <td>0.336527</td>\n",
       "      <td>22.318913</td>\n",
       "      <td>21.914126</td>\n",
       "      <td>21.535255</td>\n",
       "      <td>3.324877</td>\n",
       "      <td>3.428</td>\n",
       "      <td>14.0</td>\n",
       "      <td>0</td>\n",
       "      <td>1</td>\n",
       "      <td>0.0</td>\n",
       "      <td>0.000000</td>\n",
       "      <td>1</td>\n",
       "      <td>0</td>\n",
       "      <td>0</td>\n",
       "      <td>0</td>\n",
       "      <td>14.0</td>\n",
       "      <td>1</td>\n",
       "      <td>1</td>\n",
       "      <td>1</td>\n",
       "      <td>1</td>\n",
       "      <td>1</td>\n",
       "      <td>0</td>\n",
       "      <td>0</td>\n",
       "      <td>0</td>\n",
       "      <td>1</td>\n",
       "      <td>0</td>\n",
       "    </tr>\n",
       "    <tr>\n",
       "      <th>5</th>\n",
       "      <td>B</td>\n",
       "      <td>1</td>\n",
       "      <td>1</td>\n",
       "      <td>NaN</td>\n",
       "      <td>0.0</td>\n",
       "      <td>D</td>\n",
       "      <td>0</td>\n",
       "      <td>K</td>\n",
       "      <td>1</td>\n",
       "      <td>0.336527</td>\n",
       "      <td>22.318913</td>\n",
       "      <td>21.914126</td>\n",
       "      <td>21.535255</td>\n",
       "      <td>3.324877</td>\n",
       "      <td>3.000</td>\n",
       "      <td>14.0</td>\n",
       "      <td>0</td>\n",
       "      <td>1</td>\n",
       "      <td>0.0</td>\n",
       "      <td>0.000000</td>\n",
       "      <td>1</td>\n",
       "      <td>0</td>\n",
       "      <td>0</td>\n",
       "      <td>0</td>\n",
       "      <td>14.0</td>\n",
       "      <td>1</td>\n",
       "      <td>1</td>\n",
       "      <td>1</td>\n",
       "      <td>1</td>\n",
       "      <td>1</td>\n",
       "      <td>0</td>\n",
       "      <td>0</td>\n",
       "      <td>0</td>\n",
       "      <td>1</td>\n",
       "      <td>0</td>\n",
       "    </tr>\n",
       "  </tbody>\n",
       "</table>\n",
       "</div>"
      ],
      "text/plain": [
       "            Race  International  Sex    Miles  Commuter Dorm  IowaResident  \\\n",
       "Research ID                                                                  \n",
       "1              E              0    0    70-79       0.0    A             1   \n",
       "2              E              0    1  250-274       0.0    C             0   \n",
       "3              B              1    1      NaN       0.0    F             0   \n",
       "4              B              1    1      NaN       0.0    D             0   \n",
       "5              B              1    1      NaN       0.0    D             0   \n",
       "\n",
       "            SchoolofMajor  Athlete    HSRank    ACTComp    ACTMath     ACTEng  \\\n",
       "Research ID                                                                     \n",
       "1                       I        1  0.336527  30.000000  30.000000  26.000000   \n",
       "2                       H        2  0.341000  18.000000  17.000000  13.000000   \n",
       "3                       I        1  0.336527  22.318913  21.914126  21.535255   \n",
       "4                       K        1  0.336527  22.318913  21.914126  21.535255   \n",
       "5                       K        1  0.336527  22.318913  21.914126  21.535255   \n",
       "\n",
       "                HSGPA  BVGPA   Hrs  Returned  miles_missing  mean_miles  \\\n",
       "Research ID                                                               \n",
       "1            2.660000  0.000  13.0         0              0        74.5   \n",
       "2            3.570000  3.000  12.0         0              0       262.0   \n",
       "3            3.324877  1.466  15.0         0              1         0.0   \n",
       "4            3.324877  3.428  14.0         0              1         0.0   \n",
       "5            3.324877  3.000  14.0         0              1         0.0   \n",
       "\n",
       "             log_mean_miles  Race_B  Race_J  Race_A  Race_E  hours_corrected  \\\n",
       "Research ID                                                                    \n",
       "1                  4.310799       0       0       0       1             13.0   \n",
       "2                  5.568345       0       0       0       1             12.0   \n",
       "3                  0.000000       1       0       0       0             15.0   \n",
       "4                  0.000000       1       0       0       0             14.0   \n",
       "5                  0.000000       1       0       0       0             14.0   \n",
       "\n",
       "             HSRank_present  ACTComp_present  ACTMath_present  ACTEng_present  \\\n",
       "Research ID                                                                     \n",
       "1                         1                0                0               0   \n",
       "2                         0                0                0               0   \n",
       "3                         1                1                1               1   \n",
       "4                         1                1                1               1   \n",
       "5                         1                1                1               1   \n",
       "\n",
       "             HSGPA_present  Dorm_U  Dorm_B  Dorm_E  SchoolofMajor_K  Dorm_A  \n",
       "Research ID                                                                  \n",
       "1                        0       0       0       0                0       1  \n",
       "2                        0       0       0       0                0       0  \n",
       "3                        1       0       0       0                0       0  \n",
       "4                        1       0       0       0                1       0  \n",
       "5                        1       0       0       0                1       0  "
      ]
     },
     "execution_count": 266,
     "metadata": {},
     "output_type": "execute_result"
    }
   ],
   "source": [
    "df.head()"
   ]
  },
  {
   "cell_type": "markdown",
   "metadata": {},
   "source": [
    "## Summary of features selected\n",
    "\n",
    "* miles_missing, mean_miles, log_mean_miles;\n",
    "* hours_corrected;\n",
    "* International, Sex, Commuter, IowaResident;\n",
    "* Race_B, Race_J, Race_A, Race_E;\n",
    "* HSRank_present, HSGPA_present, ACTXXX_present;\n",
    "* BVGPA, HSGPA, HSRank, ACTXXX;\n",
    "* Dorms U (unknown), B, E, and A;\n",
    "* School of Major == K;\n",
    "\n",
    "Let us create the subset of features and split it into training/test:"
   ]
  },
  {
   "cell_type": "code",
   "execution_count": 316,
   "metadata": {},
   "outputs": [
    {
     "data": {
      "text/plain": [
       "((2769, 28), (923, 28), (2769,), (923,))"
      ]
     },
     "execution_count": 316,
     "metadata": {},
     "output_type": "execute_result"
    }
   ],
   "source": [
    "from sklearn.model_selection import train_test_split\n",
    "\n",
    "X = df[['miles_missing','mean_miles','log_mean_miles',\n",
    "        'hours_corrected',\n",
    "        'International','Sex','Commuter','IowaResident',\n",
    "        'Race_B','Race_J','Race_A','Race_E',\n",
    "        'HSRank_present','ACTComp_present','ACTMath_present','ACTEng_present','HSGPA_present',\n",
    "       'BVGPA','HSGPA','HSRank','ACTComp','ACTMath','ACTEng',\n",
    "        'Dorm_U','Dorm_B','Dorm_E','Dorm_A','SchoolofMajor_K'\n",
    "       ]]\n",
    "y = df['Returned']\n",
    "feature_names = X.columns\n",
    "\n",
    "X_train, X_test, y_train, y_test = train_test_split(X,y, random_state = 1) # fix random_state for repeatability\n",
    "X_train.shape, X_test.shape, y_train.shape, y_test.shape"
   ]
  },
  {
   "cell_type": "markdown",
   "metadata": {},
   "source": [
    "## Visualizing the data\n",
    "\n",
    "Here we look into the data to see how separable are the two classes (returned/not-returned). The process is two-fold:\n",
    "\n",
    "1. Normalize the data, convert all features to their Z-scores: $X_{norm} = \\frac{X-\\mu_X}{\\sigma_X}$;\n",
    "1. Apply PCA and see how many components are needed to keep 95% of variance in the data;\n",
    "2. Apply t-SNE algorithm to convert to two features and visualize;"
   ]
  },
  {
   "cell_type": "code",
   "execution_count": 317,
   "metadata": {},
   "outputs": [],
   "source": [
    "from sklearn.preprocessing import StandardScaler\n",
    "ss = StandardScaler().fit(X_train)\n",
    "X_train_norm = ss.transform(X_train)\n",
    "X_test_norm = ss.transform(X_test)"
   ]
  },
  {
   "cell_type": "code",
   "execution_count": 318,
   "metadata": {},
   "outputs": [
    {
     "name": "stdout",
     "output_type": "stream",
     "text": [
      "17 components preserve 95% of variance\n"
     ]
    }
   ],
   "source": [
    "from sklearn.decomposition import PCA\n",
    "pc = PCA().fit(X_train_norm)\n",
    "n_comps = np.argmax(np.cumsum(pc.explained_variance_ratio_) > 0.95)\n",
    "print(\"%d components preserve 95%% of variance\"%n_comps)"
   ]
  },
  {
   "cell_type": "markdown",
   "metadata": {},
   "source": [
    "Apply PCA, t-SNE, and visualize:"
   ]
  },
  {
   "cell_type": "code",
   "execution_count": 319,
   "metadata": {},
   "outputs": [],
   "source": [
    "pc = PCA(n_components=n_comps,random_state=1)\n",
    "X_train_pca = pc.fit_transform(X_train_norm)\n",
    "X_test_pca = pc.transform(X_test_norm)"
   ]
  },
  {
   "cell_type": "code",
   "execution_count": 320,
   "metadata": {},
   "outputs": [],
   "source": [
    "from sklearn.manifold import TSNE\n",
    "X_train_vis = TSNE(n_components=2, random_state = 1, perplexity = 25).fit_transform(X_train_pca)"
   ]
  },
  {
   "cell_type": "code",
   "execution_count": 321,
   "metadata": {},
   "outputs": [
    {
     "data": {
      "image/png": "[encoded data removed]",
      "text/plain": [
       "<Figure size 720x720 with 1 Axes>"
      ]
     },
     "metadata": {
      "needs_background": "light"
     },
     "output_type": "display_data"
    }
   ],
   "source": [
    "plt.figure(figsize = (10,10))\n",
    "for idx, label_ in enumerate([('r',0.7,'not returned'),('gray',0.3,'returned')]):\n",
    "    plt.scatter(X_train_vis[y_train == idx][:,0],\n",
    "                X_train_vis[y_train == idx][:,1], alpha = label_[1],\n",
    "                label = label_[2], color = label_[0])\n",
    "plt.title('t-SNE Visualization of first year BVU students retention')\n",
    "plt.legend()\n",
    "plt.show()"
   ]
  },
  {
   "cell_type": "markdown",
   "metadata": {},
   "source": [
    "It does not seem easy to separate the two classes. Perhaps some important features are still missing from the analysis. "
   ]
  },
  {
   "cell_type": "markdown",
   "metadata": {},
   "source": [
    "# Modeling"
   ]
  },
  {
   "cell_type": "markdown",
   "metadata": {},
   "source": [
    "## Balancing the data\n",
    "\n",
    "The data is highly unbalanced, i.e. there are ~72% students who returned, vs. 28% who did not. The data need to be balanced before proceeding. SMOTE algorithm will create synthetic data points where returned = 0."
   ]
  },
  {
   "cell_type": "code",
   "execution_count": 322,
   "metadata": {},
   "outputs": [
    {
     "name": "stdout",
     "output_type": "stream",
     "text": [
      "Ratio of returned students to all: 0.72\n"
     ]
    }
   ],
   "source": [
    "print(\"Ratio of returned students to all: %.2f\"%np.mean(y_train == 1))"
   ]
  },
  {
   "cell_type": "code",
   "execution_count": 323,
   "metadata": {},
   "outputs": [],
   "source": [
    "from imblearn.over_sampling import SMOTE\n",
    "\n",
    "X_train_smote, y_train_smote = SMOTE().fit_resample(X_train_norm, y_train)"
   ]
  },
  {
   "cell_type": "markdown",
   "metadata": {},
   "source": [
    "## Logistic Regression\n",
    "\n",
    "Logistic regression is the simplest interpretable model:"
   ]
  },
  {
   "cell_type": "code",
   "execution_count": 392,
   "metadata": {},
   "outputs": [
    {
     "name": "stderr",
     "output_type": "stream",
     "text": [
      "[Parallel(n_jobs=1)]: Using backend SequentialBackend with 1 concurrent workers.\n",
      "[Parallel(n_jobs=1)]: Done   1 out of   1 | elapsed:    0.1s finished\n"
     ]
    }
   ],
   "source": [
    "from sklearn.linear_model import LogisticRegression\n",
    "\n",
    "lr = LogisticRegression(solver = 'lbfgs',\n",
    "                        #class_weight = {0:2,1:1}\n",
    "                        C = 0.9,\n",
    "                        verbose = 1\n",
    "                       ).fit(X_train_smote,y_train_smote)\n",
    "y_hat = lr.predict(X_test)"
   ]
  },
  {
   "cell_type": "markdown",
   "metadata": {},
   "source": [
    "Performance on unseen (test) data:"
   ]
  },
  {
   "cell_type": "code",
   "execution_count": 393,
   "metadata": {},
   "outputs": [
    {
     "name": "stdout",
     "output_type": "stream",
     "text": [
      "              precision    recall  f1-score   support\n",
      "\n",
      "           0       0.00      0.00      0.00       243\n",
      "           1       0.74      1.00      0.85       680\n",
      "\n",
      "    accuracy                           0.74       923\n",
      "   macro avg       0.37      0.50      0.42       923\n",
      "weighted avg       0.54      0.74      0.63       923\n",
      "\n"
     ]
    },
    {
     "name": "stderr",
     "output_type": "stream",
     "text": [
      "/home/abezuglov/.local/lib/python3.7/site-packages/sklearn/metrics/classification.py:1437: UndefinedMetricWarning: Precision and F-score are ill-defined and being set to 0.0 in labels with no predicted samples.\n",
      "  'precision', 'predicted', average, warn_for)\n",
      "/home/abezuglov/.local/lib/python3.7/site-packages/sklearn/metrics/classification.py:1437: UndefinedMetricWarning: Precision and F-score are ill-defined and being set to 0.0 in labels with no predicted samples.\n",
      "  'precision', 'predicted', average, warn_for)\n",
      "/home/abezuglov/.local/lib/python3.7/site-packages/sklearn/metrics/classification.py:1437: UndefinedMetricWarning: Precision and F-score are ill-defined and being set to 0.0 in labels with no predicted samples.\n",
      "  'precision', 'predicted', average, warn_for)\n"
     ]
    }
   ],
   "source": [
    "from sklearn.metrics import classification_report, confusion_matrix, accuracy_score\n",
    "cr = classification_report(y_test, y_hat)\n",
    "print(cr)"
   ]
  },
  {
   "cell_type": "code",
   "execution_count": 402,
   "metadata": {},
   "outputs": [
    {
     "data": {
      "text/plain": [
       "array([[  0, 243],\n",
       "       [  0, 680]])"
      ]
     },
     "execution_count": 402,
     "metadata": {},
     "output_type": "execute_result"
    }
   ],
   "source": [
    "confusion_matrix(y_test, y_hat)"
   ]
  },
  {
   "cell_type": "markdown",
   "metadata": {},
   "source": [
    "## Gaussian Naive Bayes"
   ]
  },
  {
   "cell_type": "code",
   "execution_count": 406,
   "metadata": {},
   "outputs": [
    {
     "data": {
      "text/plain": [
       "array([[218,  25],\n",
       "       [630,  50]])"
      ]
     },
     "execution_count": 406,
     "metadata": {},
     "output_type": "execute_result"
    }
   ],
   "source": [
    "from sklearn.naive_bayes import GaussianNB\n",
    "\n",
    "gnb = GaussianNB(random_state = 1).fit(X_train_smote,y_train_smote)\n",
    "confusion_matrix(y_test, gnb.predict(X_test))"
   ]
  },
  {
   "cell_type": "code",
   "execution_count": 408,
   "metadata": {},
   "outputs": [
    {
     "name": "stdout",
     "output_type": "stream",
     "text": [
      "              precision    recall  f1-score   support\n",
      "\n",
      "           0       0.26      0.90      0.40       243\n",
      "           1       0.67      0.07      0.13       680\n",
      "\n",
      "    accuracy                           0.29       923\n",
      "   macro avg       0.46      0.49      0.27       923\n",
      "weighted avg       0.56      0.29      0.20       923\n",
      "\n"
     ]
    }
   ],
   "source": [
    "cr = classification_report(y_test, gnb.predict(X_test))\n",
    "print(cr)"
   ]
  },
  {
   "cell_type": "markdown",
   "metadata": {},
   "source": [
    "## Multilayer Perceptron for Classification"
   ]
  },
  {
   "cell_type": "code",
   "execution_count": 490,
   "metadata": {},
   "outputs": [
    {
     "data": {
      "text/plain": [
       "array([[100, 143],\n",
       "       [201, 479]])"
      ]
     },
     "execution_count": 490,
     "metadata": {},
     "output_type": "execute_result"
    }
   ],
   "source": [
    "from sklearn.neural_network import MLPClassifier\n",
    "\n",
    "ann = MLPClassifier(random_state = 1, verbose = 0, hidden_layer_sizes=(50,10),\n",
    "                   max_iter=1000).fit(X_train_smote,y_train_smote)\n",
    "confusion_matrix(y_test, ann.predict(X_test))"
   ]
  },
  {
   "cell_type": "markdown",
   "metadata": {},
   "source": [
    "## Gradient Boosting"
   ]
  },
  {
   "cell_type": "code",
   "execution_count": 395,
   "metadata": {},
   "outputs": [],
   "source": [
    "from sklearn.ensemble import GradientBoostingClassifier\n",
    "gbc = GradientBoostingClassifier(\n",
    "    n_estimators=100, learning_rate=1.0, max_depth=2, random_state=0,\n",
    ").fit(X_train_smote,y_train_smote)\n",
    "#gbc.score(df_pva_test_norm, df_pva_test_target)"
   ]
  },
  {
   "cell_type": "markdown",
   "metadata": {},
   "source": [
    "Performance on training data:"
   ]
  },
  {
   "cell_type": "code",
   "execution_count": 396,
   "metadata": {},
   "outputs": [
    {
     "data": {
      "text/plain": [
       "array([[1689,  316],\n",
       "       [ 103, 1902]])"
      ]
     },
     "execution_count": 396,
     "metadata": {},
     "output_type": "execute_result"
    }
   ],
   "source": [
    "confusion_matrix(y_train_smote, gbc.predict(X_train_smote))"
   ]
  },
  {
   "cell_type": "markdown",
   "metadata": {},
   "source": [
    "Performance on unseen data:"
   ]
  },
  {
   "cell_type": "code",
   "execution_count": 397,
   "metadata": {},
   "outputs": [
    {
     "data": {
      "text/plain": [
       "array([[143, 100],\n",
       "       [283, 397]])"
      ]
     },
     "execution_count": 397,
     "metadata": {},
     "output_type": "execute_result"
    }
   ],
   "source": [
    "confusion_matrix(y_test, gbc.predict(X_test))"
   ]
  },
  {
   "cell_type": "code",
   "execution_count": 398,
   "metadata": {},
   "outputs": [
    {
     "name": "stdout",
     "output_type": "stream",
     "text": [
      "              precision    recall  f1-score   support\n",
      "\n",
      "           0       0.34      0.59      0.43       243\n",
      "           1       0.80      0.58      0.67       680\n",
      "\n",
      "    accuracy                           0.59       923\n",
      "   macro avg       0.57      0.59      0.55       923\n",
      "weighted avg       0.68      0.59      0.61       923\n",
      "\n"
     ]
    }
   ],
   "source": [
    "cr = classification_report(y_test, gbc.predict(X_test))\n",
    "print(cr)"
   ]
  },
  {
   "cell_type": "markdown",
   "metadata": {},
   "source": [
    "## AdaBoostClassifier"
   ]
  },
  {
   "cell_type": "code",
   "execution_count": 399,
   "metadata": {},
   "outputs": [],
   "source": [
    "from sklearn.ensemble import AdaBoostClassifier"
   ]
  },
  {
   "cell_type": "code",
   "execution_count": 400,
   "metadata": {},
   "outputs": [],
   "source": [
    "ada = AdaBoostClassifier(\n",
    "    n_estimators = 100, learning_rate=1.0, random_state=0\n",
    ").fit(X_train_smote,y_train_smote)"
   ]
  },
  {
   "cell_type": "markdown",
   "metadata": {},
   "source": [
    "Performance on training data:"
   ]
  },
  {
   "cell_type": "code",
   "execution_count": 401,
   "metadata": {},
   "outputs": [
    {
     "data": {
      "text/plain": [
       "array([[1506,  499],\n",
       "       [ 292, 1713]])"
      ]
     },
     "execution_count": 401,
     "metadata": {},
     "output_type": "execute_result"
    }
   ],
   "source": [
    "confusion_matrix(y_train_smote, ada.predict(X_train_smote))"
   ]
  },
  {
   "cell_type": "markdown",
   "metadata": {},
   "source": [
    "Performance on test data:"
   ]
  },
  {
   "cell_type": "code",
   "execution_count": 391,
   "metadata": {},
   "outputs": [
    {
     "data": {
      "text/plain": [
       "array([[  0, 243],\n",
       "       [  1, 679]])"
      ]
     },
     "execution_count": 391,
     "metadata": {},
     "output_type": "execute_result"
    }
   ],
   "source": [
    "confusion_matrix(y_test, ada.predict(X_test))"
   ]
  },
  {
   "cell_type": "markdown",
   "metadata": {},
   "source": [
    "## Decision tree classifier"
   ]
  },
  {
   "cell_type": "code",
   "execution_count": 434,
   "metadata": {},
   "outputs": [
    {
     "data": {
      "text/plain": [
       "array([[  0, 243],\n",
       "       [  0, 680]])"
      ]
     },
     "execution_count": 434,
     "metadata": {},
     "output_type": "execute_result"
    }
   ],
   "source": [
    "dt = DecisionTreeClassifier(max_depth = 5, random_state = 1)\n",
    "dt.fit(X_train_smote, y_train_smote)\n",
    "\n",
    "confusion_matrix(y_test, dt.predict(X_test))"
   ]
  },
  {
   "cell_type": "code",
   "execution_count": 435,
   "metadata": {},
   "outputs": [
    {
     "data": {
      "image/png": "[encoded data removed]",
      "text/plain": [
       "<Figure size 4320x1440 with 1 Axes>"
      ]
     },
     "metadata": {
      "needs_background": "light"
     },
     "output_type": "display_data"
    }
   ],
   "source": [
    "tree.export_graphviz(dt, out_file = 'tree.dot', feature_names = feature_names)\n",
    "subprocess.call(['dot','-Tpng','tree.dot','-o','tree.png'])\n",
    "img = mpimg.imread('tree.png')\n",
    "plt.figure(figsize=(60,20))\n",
    "imgplot = plt.imshow(img, aspect='auto')\n",
    "plt.show()"
   ]
  },
  {
   "cell_type": "markdown",
   "metadata": {},
   "source": [
    "## SVM"
   ]
  },
  {
   "cell_type": "code",
   "execution_count": 436,
   "metadata": {},
   "outputs": [
    {
     "data": {
      "text/plain": [
       "array([[222,  21],\n",
       "       [649,  31]])"
      ]
     },
     "execution_count": 436,
     "metadata": {},
     "output_type": "execute_result"
    }
   ],
   "source": [
    "sv = SVC(kernel='sigmoid', gamma = 'auto', random_state = 1)\n",
    "sv.fit(X_train_smote, y_train_smote)\n",
    "confusion_matrix(y_test, sv.predict(X_test))"
   ]
  },
  {
   "cell_type": "markdown",
   "metadata": {},
   "source": [
    "## KNN"
   ]
  },
  {
   "cell_type": "code",
   "execution_count": 437,
   "metadata": {},
   "outputs": [
    {
     "data": {
      "text/plain": [
       "array([[ 24, 219],\n",
       "       [ 55, 625]])"
      ]
     },
     "execution_count": 437,
     "metadata": {},
     "output_type": "execute_result"
    }
   ],
   "source": [
    "from sklearn.neighbors import KNeighborsClassifier\n",
    "knn = KNeighborsClassifier(n_neighbors=5).fit(X_train_smote,y_train_smote)\n",
    "confusion_matrix(y_test, knn.predict(X_test))"
   ]
  },
  {
   "cell_type": "markdown",
   "metadata": {},
   "source": [
    "## Selected Models\n",
    "\n",
    "Based on experimentations above, we select the following models for further study:"
   ]
  },
  {
   "cell_type": "code",
   "execution_count": 442,
   "metadata": {},
   "outputs": [],
   "source": [
    "models = [('Naive Bayes',GaussianNB()),\n",
    "('Artificial Neural Network',MLPClassifier(random_state = 1, verbose = 0, hidden_layer_sizes=(50,10),max_iter=1000)),\n",
    "('Gradient Boosting',GradientBoostingClassifier(n_estimators=100, learning_rate=1.0, max_depth=2, random_state=0)),\n",
    "('Support Vector machine',SVC(kernel='sigmoid', gamma = 'auto', random_state = 1)),\n",
    "('KNN(5)',KNeighborsClassifier(n_neighbors=5))]"
   ]
  },
  {
   "cell_type": "code",
   "execution_count": 444,
   "metadata": {},
   "outputs": [],
   "source": [
    "from sklearn.metrics import f1_score\n",
    "f1_scores = []\n",
    "for desc,m in models:\n",
    "    m.fit(X_train_smote,y_train_smote)\n",
    "    f1_scores.append((desc,f1_score(y_test,m.predict(X_test))))"
   ]
  },
  {
   "cell_type": "markdown",
   "metadata": {},
   "source": [
    "The best models according to their F1 scores:"
   ]
  },
  {
   "cell_type": "code",
   "execution_count": 447,
   "metadata": {},
   "outputs": [
    {
     "data": {
      "text/plain": [
       "[('KNN(5)', 0.8202099737532808),\n",
       " ('Artificial Neural Network', 0.7357910906298003),\n",
       " ('Gradient Boosting', 0.6745964316057773),\n",
       " ('Naive Bayes', 0.13245033112582782),\n",
       " ('Support Vector machine', 0.08469945355191257)]"
      ]
     },
     "execution_count": 447,
     "metadata": {},
     "output_type": "execute_result"
    }
   ],
   "source": [
    "sorted(f1_scores, key = lambda x:-x[1])"
   ]
  },
  {
   "cell_type": "markdown",
   "metadata": {},
   "source": [
    "The best models according to their recall of non-returned students:"
   ]
  },
  {
   "cell_type": "code",
   "execution_count": 453,
   "metadata": {},
   "outputs": [],
   "source": [
    "from sklearn.metrics import recall_score\n",
    "recall_scores = []\n",
    "for desc,m in models:\n",
    "    m.fit(X_train_smote,y_train_smote)\n",
    "    recall_scores.append((desc,recall_score(y_test, m.predict(X_test),labels=['non-returned','returned'], pos_label = 0)))"
   ]
  },
  {
   "cell_type": "code",
   "execution_count": 455,
   "metadata": {},
   "outputs": [
    {
     "data": {
      "text/plain": [
       "[('Support Vector machine', 0.9135802469135802),\n",
       " ('Naive Bayes', 0.897119341563786),\n",
       " ('Gradient Boosting', 0.588477366255144),\n",
       " ('Artificial Neural Network', 0.411522633744856),\n",
       " ('KNN(5)', 0.09876543209876543)]"
      ]
     },
     "execution_count": 455,
     "metadata": {},
     "output_type": "execute_result"
    }
   ],
   "source": [
    "sorted(recall_scores, key = lambda x:-x[1])"
   ]
  },
  {
   "cell_type": "markdown",
   "metadata": {},
   "source": [
    "## Cross Validation\n",
    "\n",
    "Use cross validation to compare model performances"
   ]
  },
  {
   "cell_type": "code",
   "execution_count": 456,
   "metadata": {},
   "outputs": [],
   "source": [
    "from sklearn.model_selection import cross_val_score"
   ]
  },
  {
   "cell_type": "code",
   "execution_count": 459,
   "metadata": {},
   "outputs": [],
   "source": [
    "cross_val_scores = []\n",
    "for desc, m in models:\n",
    "    cross_val_scores.append((desc,cross_val_score(m,X_train_smote,y_train_smote, cv = 5)))\n"
   ]
  },
  {
   "cell_type": "code",
   "execution_count": 472,
   "metadata": {},
   "outputs": [
    {
     "data": {
      "text/plain": [
       "<matplotlib.axes._subplots.AxesSubplot at 0x7f2d356600f0>"
      ]
     },
     "execution_count": 472,
     "metadata": {},
     "output_type": "execute_result"
    },
    {
     "data": {
      "image/png": "[encoded data removed]",
      "text/plain": [
       "<Figure size 432x288 with 1 Axes>"
      ]
     },
     "metadata": {
      "needs_background": "light"
     },
     "output_type": "display_data"
    }
   ],
   "source": [
    "df_model_scores = []\n",
    "for desc, scores in cross_val_scores:\n",
    "    d = {\n",
    "        'model':desc,\n",
    "        'mean_score':np.mean(scores),\n",
    "        'std_score':np.std(scores)\n",
    "    }\n",
    "    df_model_scores.append(d)\n",
    "df_model_scores = pd.DataFrame(df_model_scores).set_index('model')\n",
    "\n",
    "df_model_scores.sort_values(by = 'mean_score', ascending = False).plot(\n",
    "    kind = 'bar',yerr='std_score', alpha = 0.7)"
   ]
  },
  {
   "cell_type": "markdown",
   "metadata": {},
   "source": [
    "## Cost analysis\n",
    "\n",
    "Suppose the labels are:\n",
    "\n",
    "* TP -- correctly identifying a student who will NOT return;\n",
    "* FP -- the model marks a returning student as 'non-return';\n",
    "* TN -- correctly identifying a student who WILL return;\n",
    "* FN -- missing a student who will NOT return;\n",
    "\n",
    "Suppose the cost of intervening action is 1,000 and every student brings 30,000 to the university. Then the costs of errors are as follows:\n",
    "\n",
    "* TP -- +30,000-1,0000 = 29000\n",
    "* FP -- -1,000\n",
    "* TN -- 0\n",
    "* FN -- -30,000"
   ]
  },
  {
   "cell_type": "code",
   "execution_count": 486,
   "metadata": {},
   "outputs": [],
   "source": [
    "error_costs = np.array([29000,-1000,0,-30000])\n",
    "desc, m = models[0]\n",
    "funds_saved = []\n",
    "\n",
    "for desc, m in models:\n",
    "    m.fit(X_train_smote,y_train_smote)\n",
    "    y_hat = m.predict(X_test)\n",
    "    TP = np.sum((y_hat == y_test) & (y_test == 0))\n",
    "    FP = np.sum((y_hat != y_test) & (y_test == 1))\n",
    "    TN = np.sum((y_hat == y_test) & (y_test == 1))\n",
    "    FN = np.sum((y_hat != y_test) & (y_test == 0))\n",
    "    funds_saved.append((desc,np.dot(np.array([TP,FP,TN,FN]),error_costs)))"
   ]
  },
  {
   "cell_type": "code",
   "execution_count": 488,
   "metadata": {},
   "outputs": [
    {
     "data": {
      "text/plain": [
       "[('Support Vector machine', 5159000),\n",
       " ('Naive Bayes', 4942000),\n",
       " ('Gradient Boosting', 864000),\n",
       " ('Artificial Neural Network', -1591000),\n",
       " ('KNN(5)', -5929000)]"
      ]
     },
     "execution_count": 488,
     "metadata": {},
     "output_type": "execute_result"
    }
   ],
   "source": [
    "sorted(funds_saved,key = lambda x:-x[1])"
   ]
  },
  {
   "cell_type": "markdown",
   "metadata": {},
   "source": [
    "Considering the above artificial figures, the university can save approximately $5M when applying a Support Vector Machine or Naive Bayes models on the test subset of students including 923 students."
   ]
  },
  {
   "cell_type": "markdown",
   "metadata": {},
   "source": [
    "# Conclusion\n",
    "\n",
    "In summary, despite relatively poor performance of the models, at least several of them (Support Vector machine and Naive Bayes) can be used in practice. \n",
    "\n",
    "Further improvements are possible by:\n",
    "\n",
    "* Using more data:\n",
    "    * More students;\n",
    "    * More information about each student, such as their demographics, performance at classes taken, etc.\n",
    "* Applying other strategies for feature selection, creating features, cleaning data, and imputing missing values;\n",
    "* Fine tuning machine learning algorithms;"
   ]
  }
 ],
 "metadata": {
  "kernelspec": {
   "display_name": "Python 3",
   "language": "python",
   "name": "python3"
  },
  "language_info": {
   "codemirror_mode": {
    "name": "ipython",
    "version": 3
   },
   "file_extension": ".py",
   "mimetype": "text/x-python",
   "name": "python",
   "nbconvert_exporter": "python",
   "pygments_lexer": "ipython3",
   "version": "3.7.3"
  }
 },
 "nbformat": 4,
 "nbformat_minor": 2
}
